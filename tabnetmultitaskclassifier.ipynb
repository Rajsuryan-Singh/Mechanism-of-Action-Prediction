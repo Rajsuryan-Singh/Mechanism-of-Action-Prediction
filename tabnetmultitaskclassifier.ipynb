{
 "cells": [
  {
   "cell_type": "markdown",
   "metadata": {
    "papermill": {
     "duration": 0.0214,
     "end_time": "2020-09-20T14:40:54.598484",
     "exception": false,
     "start_time": "2020-09-20T14:40:54.577084",
     "status": "completed"
    },
    "tags": []
   },
   "source": [
    "# About this notebook\n",
    "\n",
    "TabNetMultiTaskClassifier is still under development, I'm sharing this now in a co-construction approach.\n",
    "\n",
    "Please share your feedback as comments here or directly in the corresponding PR on the github repo : https://github.com/dreamquark-ai/tabnet/pull/184\n",
    "\n",
    "Once carefully reviewed I'll release this in the official repo.\n",
    "\n",
    "If you have questions about the model please first have a look at the README here : https://github.com/dreamquark-ai/tabnet/blob/feat/MultiTaskClassification/README.md\n",
    "\n",
    "Maybe have a look at this video for more in depth explanations : https://youtu.be/ysBaZO8YmX8 \n",
    "\n",
    "# About TabNetMultiTaskClassifier\n",
    "\n",
    "TabNetMultiTaskClassifier is a new class of pytorch-tabnet, it allows you to easily deal with multi task classification problem. (Note: for multi task regression problems you can use TabNetRegressor).\n",
    "\n",
    "Some of the available features are:\n",
    "\n",
    "- any number of tasks is allowed\n",
    "- each task can have any number of labels\n",
    "- you can pass different loss functions for each task by giving a corresponding list of loss function during fit\n",
    "\n",
    "# About the competition\n",
    "\n",
    "I am not going to share a full running submission as I did not started the competition yet and I'd like people to try a solution of their own.\n",
    "\n",
    "This should be enough for people to start playing around, feel free to fork this in order to get a score.\n",
    "If you end up with a good scoring kernel with a few twick please share it publicly, we are still very early in the competition and TabNet is easy to use and open source.\n",
    "\n",
    "Disclaimer : I actually don't know how competitive this simple notebook will be, but this is just a baseline to improve upon!\n",
    "\n",
    "\n",
    "# About pytorch-tabnet\n",
    "\n",
    "Pytorch-tabnet is an open source project, feel free to contribute!\n",
    "\n",
    "\n",
    "**Good luck to all, have fun!**"
   ]
  },
  {
   "cell_type": "markdown",
   "metadata": {
    "papermill": {
     "duration": 0.019918,
     "end_time": "2020-09-20T14:40:54.638664",
     "exception": false,
     "start_time": "2020-09-20T14:40:54.618746",
     "status": "completed"
    },
    "tags": []
   },
   "source": [
    "# Installing pytorch-tabnet from the MultiTask branch (not official branch)"
   ]
  },
  {
   "cell_type": "code",
   "execution_count": 1,
   "metadata": {
    "execution": {
     "iopub.execute_input": "2020-09-20T14:40:54.686903Z",
     "iopub.status.busy": "2020-09-20T14:40:54.686063Z",
     "iopub.status.idle": "2020-09-20T14:41:40.201610Z",
     "shell.execute_reply": "2020-09-20T14:41:40.200579Z"
    },
    "papermill": {
     "duration": 45.543004,
     "end_time": "2020-09-20T14:41:40.201741",
     "exception": false,
     "start_time": "2020-09-20T14:40:54.658737",
     "status": "completed"
    },
    "tags": []
   },
   "outputs": [
    {
     "name": "stdout",
     "output_type": "stream",
     "text": [
      "Found existing installation: typing 3.7.4.3\r\n",
      "Uninstalling typing-3.7.4.3:\r\n",
      "  Successfully uninstalled typing-3.7.4.3\r\n",
      "Collecting pytorch_tabnet\r\n",
      "  Cloning https://github.com/dreamquark-ai/tabnet.git (to revision develop) to /tmp/pip-install-ljucvwxn/pytorch-tabnet\r\n",
      "  Installing build dependencies ... \u001b[?25l-\b \b\\\b \b|\b \b/\b \b-\b \b\\\b \b|\b \b/\b \b-\b \b\\\b \b|\b \b/\b \b-\b \b\\\b \b|\b \b/\b \b-\b \b\\\b \b|\b \b/\b \b-\b \b\\\b \b|\b \b/\b \b-\b \b\\\b \b|\b \b/\b \b-\b \b\\\b \b|\b \b/\b \b-\b \b\\\b \b|\b \b/\b \b-\b \b\\\b \bdone\r\n",
      "\u001b[?25h  Getting requirements to build wheel ... \u001b[?25ldone\r\n",
      "\u001b[?25h    Preparing wheel metadata ... \u001b[?25ldone\r\n",
      "\u001b[?25hRequirement already satisfied, skipping upgrade: numpy<2.0,>=1.17 in /opt/conda/lib/python3.7/site-packages (from pytorch_tabnet) (1.18.5)\r\n",
      "Requirement already satisfied, skipping upgrade: scikit_learn>0.21 in /opt/conda/lib/python3.7/site-packages (from pytorch_tabnet) (0.23.2)\r\n",
      "Requirement already satisfied, skipping upgrade: torch<2.0,>=1.2 in /opt/conda/lib/python3.7/site-packages (from pytorch_tabnet) (1.5.1)\r\n",
      "Requirement already satisfied, skipping upgrade: tqdm<5.0,>=4.36 in /opt/conda/lib/python3.7/site-packages (from pytorch_tabnet) (4.45.0)\r\n",
      "Requirement already satisfied, skipping upgrade: scipy>1.4 in /opt/conda/lib/python3.7/site-packages (from pytorch_tabnet) (1.4.1)\r\n",
      "Requirement already satisfied, skipping upgrade: threadpoolctl>=2.0.0 in /opt/conda/lib/python3.7/site-packages (from scikit_learn>0.21->pytorch_tabnet) (2.1.0)\r\n",
      "Requirement already satisfied, skipping upgrade: joblib>=0.11 in /opt/conda/lib/python3.7/site-packages (from scikit_learn>0.21->pytorch_tabnet) (0.14.1)\r\n",
      "Requirement already satisfied, skipping upgrade: future in /opt/conda/lib/python3.7/site-packages (from torch<2.0,>=1.2->pytorch_tabnet) (0.18.2)\r\n",
      "Building wheels for collected packages: pytorch-tabnet\r\n",
      "  Building wheel for pytorch-tabnet (PEP 517) ... \u001b[?25ldone\r\n",
      "\u001b[?25h  Created wheel for pytorch-tabnet: filename=pytorch_tabnet-1.2.0-py3-none-any.whl size=26228 sha256=ac2c7e407862d7585d85c62a72923fb6452af0a4d1138226a2389b387d31fb78\r\n",
      "  Stored in directory: /tmp/pip-ephem-wheel-cache-z72zixrq/wheels/a6/8e/aa/6f5ef6a2e389c8b5f7ea1c74bbb03ece8773b03c2b8955c334\r\n",
      "Successfully built pytorch-tabnet\r\n",
      "Installing collected packages: pytorch-tabnet\r\n",
      "Successfully installed pytorch-tabnet-1.2.0\r\n",
      "\u001b[33mWARNING: You are using pip version 20.2.2; however, version 20.2.3 is available.\r\n",
      "You should consider upgrading via the '/opt/conda/bin/python3.7 -m pip install --upgrade pip' command.\u001b[0m\r\n"
     ]
    }
   ],
   "source": [
    "!pip uninstall -y typing # this should avoid  AttributeError: type object 'Callable' has no attribute '_abc_registry'\n",
    "\n",
    "!pip install  \"git+https://github.com/dreamquark-ai/tabnet.git@develop#egg=pytorch_tabnet\" --upgrade"
   ]
  },
  {
   "cell_type": "markdown",
   "metadata": {
    "papermill": {
     "duration": 0.036748,
     "end_time": "2020-09-20T14:41:40.276467",
     "exception": false,
     "start_time": "2020-09-20T14:41:40.239719",
     "status": "completed"
    },
    "tags": []
   },
   "source": [
    "# Import libraries"
   ]
  },
  {
   "cell_type": "code",
   "execution_count": 1,
   "metadata": {
    "execution": {
     "iopub.execute_input": "2020-09-20T14:41:40.360987Z",
     "iopub.status.busy": "2020-09-20T14:41:40.360130Z",
     "iopub.status.idle": "2020-09-20T14:41:42.046407Z",
     "shell.execute_reply": "2020-09-20T14:41:42.045834Z"
    },
    "papermill": {
     "duration": 1.733002,
     "end_time": "2020-09-20T14:41:42.046538",
     "exception": false,
     "start_time": "2020-09-20T14:41:40.313536",
     "status": "completed"
    },
    "tags": []
   },
   "outputs": [],
   "source": [
    "from pytorch_tabnet.multitask import TabNetMultiTaskClassifier\n",
    "\n",
    "import torch\n",
    "from sklearn.preprocessing import LabelEncoder\n",
    "from sklearn.metrics import roc_auc_score, log_loss\n",
    "\n",
    "import pandas as pd\n",
    "import numpy as np\n",
    "np.random.seed(0)\n",
    "\n",
    "from tqdm.notebook import tqdm\n",
    "\n",
    "import os\n",
    "\n",
    "from matplotlib import pyplot as plt\n",
    "%matplotlib inline"
   ]
  },
  {
   "cell_type": "markdown",
   "metadata": {
    "papermill": {
     "duration": 0.037154,
     "end_time": "2020-09-20T14:41:42.121651",
     "exception": false,
     "start_time": "2020-09-20T14:41:42.084497",
     "status": "completed"
    },
    "tags": []
   },
   "source": [
    "# Download data"
   ]
  },
  {
   "cell_type": "code",
   "execution_count": 16,
   "metadata": {
    "execution": {
     "iopub.execute_input": "2020-09-20T14:41:42.205501Z",
     "iopub.status.busy": "2020-09-20T14:41:42.203893Z",
     "iopub.status.idle": "2020-09-20T14:41:48.073469Z",
     "shell.execute_reply": "2020-09-20T14:41:48.072770Z"
    },
    "papermill": {
     "duration": 5.914336,
     "end_time": "2020-09-20T14:41:48.073641",
     "exception": false,
     "start_time": "2020-09-20T14:41:42.159305",
     "status": "completed"
    },
    "tags": []
   },
   "outputs": [],
   "source": [
    "dataset_name = \"lish-moa\"\n",
    "train = pd.read_csv(\"train_features.csv\")\n",
    "train_targets = pd.read_csv('train_targets_scored.csv')\n",
    "train_targets.drop(columns=[\"sig_id\"], inplace=True)\n",
    "\n",
    "test = pd.read_csv('test_features.csv')"
   ]
  },
  {
   "cell_type": "markdown",
   "metadata": {
    "papermill": {
     "duration": 0.03785,
     "end_time": "2020-09-20T14:41:48.149743",
     "exception": false,
     "start_time": "2020-09-20T14:41:48.111893",
     "status": "completed"
    },
    "tags": []
   },
   "source": [
    "# Random Split, do something smarter if you want)"
   ]
  },
  {
   "cell_type": "code",
   "execution_count": 17,
   "metadata": {
    "execution": {
     "iopub.execute_input": "2020-09-20T14:41:48.233602Z",
     "iopub.status.busy": "2020-09-20T14:41:48.232889Z",
     "iopub.status.idle": "2020-09-20T14:41:48.339019Z",
     "shell.execute_reply": "2020-09-20T14:41:48.340046Z"
    },
    "papermill": {
     "duration": 0.152176,
     "end_time": "2020-09-20T14:41:48.340239",
     "exception": false,
     "start_time": "2020-09-20T14:41:48.188063",
     "status": "completed"
    },
    "tags": []
   },
   "outputs": [],
   "source": [
    "np.random.seed(0)\n",
    "if \"Set\" not in train.columns:\n",
    "    train[\"Set\"] = np.random.choice([\"train\", \"valid\"], p =[.85, .15], size=(train.shape[0],))\n",
    "\n",
    "train_indices = train[train.Set==\"train\"].index\n",
    "valid_indices = train[train.Set==\"valid\"].index"
   ]
  },
  {
   "cell_type": "markdown",
   "metadata": {
    "papermill": {
     "duration": 0.038012,
     "end_time": "2020-09-20T14:41:48.420968",
     "exception": false,
     "start_time": "2020-09-20T14:41:48.382956",
     "status": "completed"
    },
    "tags": []
   },
   "source": [
    "# Simple preprocessing\n",
    "\n",
    "\n",
    "Copy/pasted from my example notebooks, don't know if we have missing values.\n",
    "\n",
    "Label encode categorical features and fill empty cells.\n",
    "\n",
    "\n",
    "Do any smarter preprocessing if you want."
   ]
  },
  {
   "cell_type": "code",
   "execution_count": 18,
   "metadata": {
    "execution": {
     "iopub.execute_input": "2020-09-20T14:41:48.509768Z",
     "iopub.status.busy": "2020-09-20T14:41:48.508798Z",
     "iopub.status.idle": "2020-09-20T14:42:35.767652Z",
     "shell.execute_reply": "2020-09-20T14:42:35.764341Z"
    },
    "papermill": {
     "duration": 47.308187,
     "end_time": "2020-09-20T14:42:35.767825",
     "exception": false,
     "start_time": "2020-09-20T14:41:48.459638",
     "status": "completed"
    },
    "tags": []
   },
   "outputs": [
    {
     "output_type": "display_data",
     "data": {
      "text/plain": "HBox(children=(FloatProgress(value=0.0, max=877.0), HTML(value='')))",
      "application/vnd.jupyter.widget-view+json": {
       "version_major": 2,
       "version_minor": 0,
       "model_id": "e8972cd22c544053aeb6e60a033f0a99"
      }
     },
     "metadata": {}
    },
    {
     "output_type": "stream",
     "name": "stdout",
     "text": [
      "sig_id 23814\n",
      "Column sig_id does not exist in test set\n",
      "cp_type 2\n",
      "cp_time 3\n",
      "cp_dose 2\n",
      "Set 2\n",
      "Column Set does not exist in test set\n",
      "\n"
     ]
    }
   ],
   "source": [
    "# Encoding train set and test set\n",
    "\n",
    "nunique = train.nunique()\n",
    "types = train.dtypes\n",
    "\n",
    "categorical_columns = []\n",
    "categorical_dims =  {}\n",
    "for col in tqdm(train.columns):\n",
    "    if types[col] == 'object' or nunique[col] < 200:\n",
    "        print(col, train[col].nunique())\n",
    "        l_enc = LabelEncoder()\n",
    "        train[col] = train[col].fillna(\"VV_likely\")\n",
    "        train[col] = l_enc.fit_transform(train[col].values)\n",
    "        try:\n",
    "            test[col] = test[col].fillna(\"VV_likely\")\n",
    "            test[col] = l_enc.transform(test[col].values)\n",
    "        except:\n",
    "            print(f\"Column {col} does not exist in test set\")\n",
    "        categorical_columns.append(col)\n",
    "        categorical_dims[col] = len(l_enc.classes_)\n",
    "    else:\n",
    "        training_mean = train.loc[train_indices, col].mean()\n",
    "        train.fillna(training_mean, inplace=True)\n",
    "        test.fillna(training_mean, inplace=True)"
   ]
  },
  {
   "cell_type": "markdown",
   "metadata": {
    "papermill": {
     "duration": 0.03907,
     "end_time": "2020-09-20T14:42:35.846867",
     "exception": false,
     "start_time": "2020-09-20T14:42:35.807797",
     "status": "completed"
    },
    "tags": []
   },
   "source": [
    "# Define categorical features for categorical embeddings"
   ]
  },
  {
   "cell_type": "code",
   "execution_count": 19,
   "metadata": {
    "execution": {
     "iopub.execute_input": "2020-09-20T14:42:35.932467Z",
     "iopub.status.busy": "2020-09-20T14:42:35.931579Z",
     "iopub.status.idle": "2020-09-20T14:42:35.934641Z",
     "shell.execute_reply": "2020-09-20T14:42:35.934114Z"
    },
    "papermill": {
     "duration": 0.048875,
     "end_time": "2020-09-20T14:42:35.934742",
     "exception": false,
     "start_time": "2020-09-20T14:42:35.885867",
     "status": "completed"
    },
    "tags": []
   },
   "outputs": [],
   "source": [
    "unused_feat = ['Set', 'sig_id'] # Let's not use splitting sets and sig_id\n",
    "\n",
    "features = [ col for col in train.columns if col not in unused_feat] \n",
    "\n",
    "cat_idxs = [ i for i, f in enumerate(features) if f in categorical_columns]\n",
    "\n",
    "cat_dims = [ categorical_dims[f] for i, f in enumerate(features) if f in categorical_columns]\n"
   ]
  },
  {
   "cell_type": "markdown",
   "metadata": {
    "papermill": {
     "duration": 0.03942,
     "end_time": "2020-09-20T14:42:36.013334",
     "exception": false,
     "start_time": "2020-09-20T14:42:35.973914",
     "status": "completed"
    },
    "tags": []
   },
   "source": [
    "# Creating train/valid/test matrices"
   ]
  },
  {
   "cell_type": "code",
   "execution_count": 29,
   "metadata": {
    "execution": {
     "iopub.execute_input": "2020-09-20T14:42:36.099742Z",
     "iopub.status.busy": "2020-09-20T14:42:36.098598Z",
     "iopub.status.idle": "2020-09-20T14:42:36.447804Z",
     "shell.execute_reply": "2020-09-20T14:42:36.447301Z"
    },
    "papermill": {
     "duration": 0.395351,
     "end_time": "2020-09-20T14:42:36.447918",
     "exception": false,
     "start_time": "2020-09-20T14:42:36.052567",
     "status": "completed"
    },
    "tags": []
   },
   "outputs": [],
   "source": [
    "NB_TASKS = 206 \n",
    "\n",
    "X_train = train[features].values[train_indices]\n",
    "y_train = train_targets.values[train_indices]\n",
    "\n",
    "X_valid = train[features].values[valid_indices]\n",
    "y_valid = train_targets.values[valid_indices]\n",
    "\n",
    "\n",
    "X_test = test[features].values\n",
    "\n"
   ]
  },
  {
   "cell_type": "markdown",
   "metadata": {
    "papermill": {
     "duration": 0.039536,
     "end_time": "2020-09-20T14:42:36.526779",
     "exception": false,
     "start_time": "2020-09-20T14:42:36.487243",
     "status": "completed"
    },
    "tags": []
   },
   "source": [
    "# Define network and parameters\n",
    "\n",
    "### This is a set of basic parameters, happy tuning!"
   ]
  },
  {
   "cell_type": "code",
   "execution_count": 30,
   "metadata": {
    "execution": {
     "iopub.execute_input": "2020-09-20T14:42:36.612314Z",
     "iopub.status.busy": "2020-09-20T14:42:36.611527Z",
     "iopub.status.idle": "2020-09-20T14:42:36.963958Z",
     "shell.execute_reply": "2020-09-20T14:42:36.964655Z"
    },
    "papermill": {
     "duration": 0.398972,
     "end_time": "2020-09-20T14:42:36.964843",
     "exception": false,
     "start_time": "2020-09-20T14:42:36.565871",
     "status": "completed"
    },
    "tags": []
   },
   "outputs": [
    {
     "output_type": "stream",
     "name": "stdout",
     "text": [
      "Device used : cpu\n"
     ]
    }
   ],
   "source": [
    "\n",
    "clf = TabNetMultiTaskClassifier(n_steps=1,\n",
    "                                cat_idxs=cat_idxs,\n",
    "                                cat_dims=cat_dims,\n",
    "                                cat_emb_dim=1,\n",
    "                                optimizer_fn=torch.optim.Adam,\n",
    "                                optimizer_params=dict(lr=2e-2),\n",
    "                                scheduler_params={\"step_size\":50, # how to use learning rate scheduler\n",
    "                                                  \"gamma\":0.9},\n",
    "                                scheduler_fn=torch.optim.lr_scheduler.StepLR,\n",
    "                       \n",
    "                      )"
   ]
  },
  {
   "cell_type": "markdown",
   "metadata": {
    "papermill": {
     "duration": 0.039452,
     "end_time": "2020-09-20T14:42:37.044793",
     "exception": false,
     "start_time": "2020-09-20T14:42:37.005341",
     "status": "completed"
    },
    "tags": []
   },
   "source": [
    "# Training"
   ]
  },
  {
   "cell_type": "code",
   "execution_count": 31,
   "metadata": {},
   "outputs": [
    {
     "output_type": "execute_result",
     "data": {
      "text/plain": [
       "((3581, 875), (3581, 206))"
      ]
     },
     "metadata": {},
     "execution_count": 31
    }
   ],
   "source": [
    "X_valid.shape, y_valid.shape"
   ]
  },
  {
   "cell_type": "code",
   "execution_count": 34,
   "metadata": {
    "execution": {
     "iopub.execute_input": "2020-09-20T14:42:37.131220Z",
     "iopub.status.busy": "2020-09-20T14:42:37.130236Z",
     "iopub.status.idle": "2020-09-20T14:51:13.437094Z",
     "shell.execute_reply": "2020-09-20T14:51:13.436011Z"
    },
    "papermill": {
     "duration": 516.352733,
     "end_time": "2020-09-20T14:51:13.437222",
     "exception": false,
     "start_time": "2020-09-20T14:42:37.084489",
     "status": "completed"
    },
    "tags": []
   },
   "outputs": [
    {
     "output_type": "error",
     "ename": "ValueError",
     "evalue": "y_true contains only one label (0). Please provide the true labels explicitly through the labels argument.",
     "traceback": [
      "\u001b[0;31m---------------------------------------------------------------------------\u001b[0m",
      "\u001b[0;31mValueError\u001b[0m                                Traceback (most recent call last)",
      "\u001b[0;32m<ipython-input-34-4eb99a6fdd41>\u001b[0m in \u001b[0;36m<module>\u001b[0;34m\u001b[0m\n\u001b[1;32m      8\u001b[0m     \u001b[0mnum_workers\u001b[0m\u001b[0;34m=\u001b[0m\u001b[0;36m0\u001b[0m\u001b[0;34m,\u001b[0m\u001b[0;34m\u001b[0m\u001b[0;34m\u001b[0m\u001b[0m\n\u001b[1;32m      9\u001b[0m     \u001b[0mdrop_last\u001b[0m\u001b[0;34m=\u001b[0m\u001b[0;32mFalse\u001b[0m\u001b[0;34m,\u001b[0m\u001b[0;34m\u001b[0m\u001b[0;34m\u001b[0m\u001b[0m\n\u001b[0;32m---> 10\u001b[0;31m     \u001b[0mloss_fn\u001b[0m\u001b[0;34m=\u001b[0m\u001b[0mtorch\u001b[0m\u001b[0;34m.\u001b[0m\u001b[0mnn\u001b[0m\u001b[0;34m.\u001b[0m\u001b[0mfunctional\u001b[0m\u001b[0;34m.\u001b[0m\u001b[0mcross_entropy\u001b[0m\u001b[0;34m\u001b[0m\u001b[0;34m\u001b[0m\u001b[0m\n\u001b[0m\u001b[1;32m     11\u001b[0m ) \n",
      "\u001b[0;32m~/anaconda3/lib/python3.7/site-packages/pytorch_tabnet/abstract_model.py\u001b[0m in \u001b[0;36mfit\u001b[0;34m(self, X_train, y_train, eval_set, eval_name, eval_metric, loss_fn, weights, max_epochs, patience, batch_size, virtual_batch_size, num_workers, drop_last, callbacks, pin_memory)\u001b[0m\n\u001b[1;32m    176\u001b[0m             \u001b[0;31m# Apply predict epoch to all eval sets\u001b[0m\u001b[0;34m\u001b[0m\u001b[0;34m\u001b[0m\u001b[0;34m\u001b[0m\u001b[0m\n\u001b[1;32m    177\u001b[0m             \u001b[0;32mfor\u001b[0m \u001b[0meval_name\u001b[0m\u001b[0;34m,\u001b[0m \u001b[0mvalid_dataloader\u001b[0m \u001b[0;32min\u001b[0m \u001b[0mzip\u001b[0m\u001b[0;34m(\u001b[0m\u001b[0meval_names\u001b[0m\u001b[0;34m,\u001b[0m \u001b[0mvalid_dataloaders\u001b[0m\u001b[0;34m)\u001b[0m\u001b[0;34m:\u001b[0m\u001b[0;34m\u001b[0m\u001b[0;34m\u001b[0m\u001b[0m\n\u001b[0;32m--> 178\u001b[0;31m                 \u001b[0mself\u001b[0m\u001b[0;34m.\u001b[0m\u001b[0m_predict_epoch\u001b[0m\u001b[0;34m(\u001b[0m\u001b[0meval_name\u001b[0m\u001b[0;34m,\u001b[0m \u001b[0mvalid_dataloader\u001b[0m\u001b[0;34m)\u001b[0m\u001b[0;34m\u001b[0m\u001b[0;34m\u001b[0m\u001b[0m\n\u001b[0m\u001b[1;32m    179\u001b[0m \u001b[0;34m\u001b[0m\u001b[0m\n\u001b[1;32m    180\u001b[0m             \u001b[0;31m# Call method on_epoch_end for all callbacks\u001b[0m\u001b[0;34m\u001b[0m\u001b[0;34m\u001b[0m\u001b[0;34m\u001b[0m\u001b[0m\n",
      "\u001b[0;32m~/anaconda3/lib/python3.7/site-packages/pytorch_tabnet/abstract_model.py\u001b[0m in \u001b[0;36m_predict_epoch\u001b[0;34m(self, name, loader)\u001b[0m\n\u001b[1;32m    430\u001b[0m         \u001b[0my_true\u001b[0m\u001b[0;34m,\u001b[0m \u001b[0mscores\u001b[0m \u001b[0;34m=\u001b[0m \u001b[0mself\u001b[0m\u001b[0;34m.\u001b[0m\u001b[0mstack_batches\u001b[0m\u001b[0;34m(\u001b[0m\u001b[0mlist_y_true\u001b[0m\u001b[0;34m,\u001b[0m \u001b[0mlist_y_score\u001b[0m\u001b[0;34m)\u001b[0m\u001b[0;34m\u001b[0m\u001b[0;34m\u001b[0m\u001b[0m\n\u001b[1;32m    431\u001b[0m \u001b[0;34m\u001b[0m\u001b[0m\n\u001b[0;32m--> 432\u001b[0;31m         \u001b[0mmetrics_logs\u001b[0m \u001b[0;34m=\u001b[0m \u001b[0mself\u001b[0m\u001b[0;34m.\u001b[0m\u001b[0m_metric_container_dict\u001b[0m\u001b[0;34m[\u001b[0m\u001b[0mname\u001b[0m\u001b[0;34m]\u001b[0m\u001b[0;34m(\u001b[0m\u001b[0my_true\u001b[0m\u001b[0;34m,\u001b[0m \u001b[0mscores\u001b[0m\u001b[0;34m)\u001b[0m\u001b[0;34m\u001b[0m\u001b[0;34m\u001b[0m\u001b[0m\n\u001b[0m\u001b[1;32m    433\u001b[0m         \u001b[0mself\u001b[0m\u001b[0;34m.\u001b[0m\u001b[0mnetwork\u001b[0m\u001b[0;34m.\u001b[0m\u001b[0mtrain\u001b[0m\u001b[0;34m(\u001b[0m\u001b[0;34m)\u001b[0m\u001b[0;34m\u001b[0m\u001b[0;34m\u001b[0m\u001b[0m\n\u001b[1;32m    434\u001b[0m         \u001b[0mself\u001b[0m\u001b[0;34m.\u001b[0m\u001b[0mhistory\u001b[0m\u001b[0;34m.\u001b[0m\u001b[0mepoch_metrics\u001b[0m\u001b[0;34m.\u001b[0m\u001b[0mupdate\u001b[0m\u001b[0;34m(\u001b[0m\u001b[0mmetrics_logs\u001b[0m\u001b[0;34m)\u001b[0m\u001b[0;34m\u001b[0m\u001b[0;34m\u001b[0m\u001b[0m\n",
      "\u001b[0;32m~/anaconda3/lib/python3.7/site-packages/pytorch_tabnet/metrics.py\u001b[0m in \u001b[0;36m__call__\u001b[0;34m(self, y_true, y_pred)\u001b[0m\n\u001b[1;32m     52\u001b[0m             \u001b[0;32mif\u001b[0m \u001b[0misinstance\u001b[0m\u001b[0;34m(\u001b[0m\u001b[0my_pred\u001b[0m\u001b[0;34m,\u001b[0m \u001b[0mlist\u001b[0m\u001b[0;34m)\u001b[0m\u001b[0;34m:\u001b[0m\u001b[0;34m\u001b[0m\u001b[0;34m\u001b[0m\u001b[0m\n\u001b[1;32m     53\u001b[0m                 res = np.mean(\n\u001b[0;32m---> 54\u001b[0;31m                     \u001b[0;34m[\u001b[0m\u001b[0mmetric\u001b[0m\u001b[0;34m(\u001b[0m\u001b[0my_true\u001b[0m\u001b[0;34m[\u001b[0m\u001b[0;34m:\u001b[0m\u001b[0;34m,\u001b[0m \u001b[0mi\u001b[0m\u001b[0;34m]\u001b[0m\u001b[0;34m,\u001b[0m \u001b[0my_pred\u001b[0m\u001b[0;34m[\u001b[0m\u001b[0mi\u001b[0m\u001b[0;34m]\u001b[0m\u001b[0;34m)\u001b[0m \u001b[0;32mfor\u001b[0m \u001b[0mi\u001b[0m \u001b[0;32min\u001b[0m \u001b[0mrange\u001b[0m\u001b[0;34m(\u001b[0m\u001b[0mlen\u001b[0m\u001b[0;34m(\u001b[0m\u001b[0my_pred\u001b[0m\u001b[0;34m)\u001b[0m\u001b[0;34m)\u001b[0m\u001b[0;34m]\u001b[0m\u001b[0;34m\u001b[0m\u001b[0;34m\u001b[0m\u001b[0m\n\u001b[0m\u001b[1;32m     55\u001b[0m                 )\n\u001b[1;32m     56\u001b[0m             \u001b[0;32melse\u001b[0m\u001b[0;34m:\u001b[0m\u001b[0;34m\u001b[0m\u001b[0;34m\u001b[0m\u001b[0m\n",
      "\u001b[0;32m~/anaconda3/lib/python3.7/site-packages/pytorch_tabnet/metrics.py\u001b[0m in \u001b[0;36m<listcomp>\u001b[0;34m(.0)\u001b[0m\n\u001b[1;32m     52\u001b[0m             \u001b[0;32mif\u001b[0m \u001b[0misinstance\u001b[0m\u001b[0;34m(\u001b[0m\u001b[0my_pred\u001b[0m\u001b[0;34m,\u001b[0m \u001b[0mlist\u001b[0m\u001b[0;34m)\u001b[0m\u001b[0;34m:\u001b[0m\u001b[0;34m\u001b[0m\u001b[0;34m\u001b[0m\u001b[0m\n\u001b[1;32m     53\u001b[0m                 res = np.mean(\n\u001b[0;32m---> 54\u001b[0;31m                     \u001b[0;34m[\u001b[0m\u001b[0mmetric\u001b[0m\u001b[0;34m(\u001b[0m\u001b[0my_true\u001b[0m\u001b[0;34m[\u001b[0m\u001b[0;34m:\u001b[0m\u001b[0;34m,\u001b[0m \u001b[0mi\u001b[0m\u001b[0;34m]\u001b[0m\u001b[0;34m,\u001b[0m \u001b[0my_pred\u001b[0m\u001b[0;34m[\u001b[0m\u001b[0mi\u001b[0m\u001b[0;34m]\u001b[0m\u001b[0;34m)\u001b[0m \u001b[0;32mfor\u001b[0m \u001b[0mi\u001b[0m \u001b[0;32min\u001b[0m \u001b[0mrange\u001b[0m\u001b[0;34m(\u001b[0m\u001b[0mlen\u001b[0m\u001b[0;34m(\u001b[0m\u001b[0my_pred\u001b[0m\u001b[0;34m)\u001b[0m\u001b[0;34m)\u001b[0m\u001b[0;34m]\u001b[0m\u001b[0;34m\u001b[0m\u001b[0;34m\u001b[0m\u001b[0m\n\u001b[0m\u001b[1;32m     55\u001b[0m                 )\n\u001b[1;32m     56\u001b[0m             \u001b[0;32melse\u001b[0m\u001b[0;34m:\u001b[0m\u001b[0;34m\u001b[0m\u001b[0;34m\u001b[0m\u001b[0m\n",
      "\u001b[0;32m~/anaconda3/lib/python3.7/site-packages/pytorch_tabnet/metrics.py\u001b[0m in \u001b[0;36m__call__\u001b[0;34m(self, y_true, y_score)\u001b[0m\n\u001b[1;32m    203\u001b[0m             \u001b[0mLogLoss\u001b[0m \u001b[0mof\u001b[0m \u001b[0mpredictions\u001b[0m \u001b[0mvs\u001b[0m \u001b[0mtargets\u001b[0m\u001b[0;34m.\u001b[0m\u001b[0;34m\u001b[0m\u001b[0;34m\u001b[0m\u001b[0m\n\u001b[1;32m    204\u001b[0m         \"\"\"\n\u001b[0;32m--> 205\u001b[0;31m         \u001b[0;32mreturn\u001b[0m \u001b[0mlog_loss\u001b[0m\u001b[0;34m(\u001b[0m\u001b[0my_true\u001b[0m\u001b[0;34m,\u001b[0m \u001b[0my_score\u001b[0m\u001b[0;34m)\u001b[0m\u001b[0;34m\u001b[0m\u001b[0;34m\u001b[0m\u001b[0m\n\u001b[0m\u001b[1;32m    206\u001b[0m \u001b[0;34m\u001b[0m\u001b[0m\n\u001b[1;32m    207\u001b[0m \u001b[0;34m\u001b[0m\u001b[0m\n",
      "\u001b[0;32m~/anaconda3/lib/python3.7/site-packages/sklearn/metrics/_classification.py\u001b[0m in \u001b[0;36mlog_loss\u001b[0;34m(y_true, y_pred, eps, normalize, sample_weight, labels)\u001b[0m\n\u001b[1;32m   2253\u001b[0m             raise ValueError('y_true contains only one label ({0}). Please '\n\u001b[1;32m   2254\u001b[0m                              \u001b[0;34m'provide the true labels explicitly through the '\u001b[0m\u001b[0;34m\u001b[0m\u001b[0;34m\u001b[0m\u001b[0m\n\u001b[0;32m-> 2255\u001b[0;31m                              'labels argument.'.format(lb.classes_[0]))\n\u001b[0m\u001b[1;32m   2256\u001b[0m         \u001b[0;32melse\u001b[0m\u001b[0;34m:\u001b[0m\u001b[0;34m\u001b[0m\u001b[0;34m\u001b[0m\u001b[0m\n\u001b[1;32m   2257\u001b[0m             raise ValueError('The labels array needs to contain at least two '\n",
      "\u001b[0;31mValueError\u001b[0m: y_true contains only one label (0). Please provide the true labels explicitly through the labels argument."
     ]
    }
   ],
   "source": [
    "max_epochs = 300\n",
    "clf.fit(\n",
    "    X_train=X_train, y_train=y_train,\n",
    "    eval_set=[(X_train, y_train), (X_valid, y_valid)],\n",
    "    eval_name=['train', 'valid'],\n",
    "    max_epochs=max_epochs , patience=20,\n",
    "    batch_size=1024, virtual_batch_size=128,\n",
    "    num_workers=0,\n",
    "    drop_last=False,\n",
    "    loss_fn=torch.nn.functional.cross_entropy\n",
    ") "
   ]
  },
  {
   "cell_type": "code",
   "execution_count": 21,
   "metadata": {
    "execution": {
     "iopub.execute_input": "2020-09-20T14:51:13.626596Z",
     "iopub.status.busy": "2020-09-20T14:51:13.625814Z",
     "iopub.status.idle": "2020-09-20T14:51:13.801478Z",
     "shell.execute_reply": "2020-09-20T14:51:13.801989Z"
    },
    "papermill": {
     "duration": 0.273022,
     "end_time": "2020-09-20T14:51:13.802125",
     "exception": false,
     "start_time": "2020-09-20T14:51:13.529103",
     "status": "completed"
    },
    "tags": []
   },
   "outputs": [
    {
     "output_type": "execute_result",
     "data": {
      "text/plain": [
       "[<matplotlib.lines.Line2D at 0x7fc1140df150>]"
      ]
     },
     "metadata": {},
     "execution_count": 21
    },
    {
     "output_type": "display_data",
     "data": {
      "text/plain": "<Figure size 432x288 with 1 Axes>",
      "image/svg+xml": "<?xml version=\"1.0\" encoding=\"utf-8\" standalone=\"no\"?>\n<!DOCTYPE svg PUBLIC \"-//W3C//DTD SVG 1.1//EN\"\n  \"http://www.w3.org/Graphics/SVG/1.1/DTD/svg11.dtd\">\n<!-- Created with matplotlib (https://matplotlib.org/) -->\n<svg height=\"248.518125pt\" version=\"1.1\" viewBox=\"0 0 384.828125 248.518125\" width=\"384.828125pt\" xmlns=\"http://www.w3.org/2000/svg\" xmlns:xlink=\"http://www.w3.org/1999/xlink\">\n <defs>\n  <style type=\"text/css\">\n*{stroke-linecap:butt;stroke-linejoin:round;}\n  </style>\n </defs>\n <g id=\"figure_1\">\n  <g id=\"patch_1\">\n   <path d=\"M 0 248.518125 \nL 384.828125 248.518125 \nL 384.828125 0 \nL 0 0 \nz\n\" style=\"fill:none;\"/>\n  </g>\n  <g id=\"axes_1\">\n   <g id=\"patch_2\">\n    <path d=\"M 42.828125 224.64 \nL 377.628125 224.64 \nL 377.628125 7.2 \nL 42.828125 7.2 \nz\n\" style=\"fill:#ffffff;\"/>\n   </g>\n   <g id=\"matplotlib.axis_1\">\n    <g id=\"xtick_1\">\n     <g id=\"line2d_1\">\n      <defs>\n       <path d=\"M 0 0 \nL 0 3.5 \n\" id=\"mb0f39eb949\" style=\"stroke:#000000;stroke-width:0.8;\"/>\n      </defs>\n      <g>\n       <use style=\"stroke:#000000;stroke-width:0.8;\" x=\"58.046307\" xlink:href=\"#mb0f39eb949\" y=\"224.64\"/>\n      </g>\n     </g>\n     <g id=\"text_1\">\n      <!-- 0 -->\n      <defs>\n       <path d=\"M 31.78125 66.40625 \nQ 24.171875 66.40625 20.328125 58.90625 \nQ 16.5 51.421875 16.5 36.375 \nQ 16.5 21.390625 20.328125 13.890625 \nQ 24.171875 6.390625 31.78125 6.390625 \nQ 39.453125 6.390625 43.28125 13.890625 \nQ 47.125 21.390625 47.125 36.375 \nQ 47.125 51.421875 43.28125 58.90625 \nQ 39.453125 66.40625 31.78125 66.40625 \nz\nM 31.78125 74.21875 \nQ 44.046875 74.21875 50.515625 64.515625 \nQ 56.984375 54.828125 56.984375 36.375 \nQ 56.984375 17.96875 50.515625 8.265625 \nQ 44.046875 -1.421875 31.78125 -1.421875 \nQ 19.53125 -1.421875 13.0625 8.265625 \nQ 6.59375 17.96875 6.59375 36.375 \nQ 6.59375 54.828125 13.0625 64.515625 \nQ 19.53125 74.21875 31.78125 74.21875 \nz\n\" id=\"DejaVuSans-48\"/>\n      </defs>\n      <g transform=\"translate(54.865057 239.238438)scale(0.1 -0.1)\">\n       <use xlink:href=\"#DejaVuSans-48\"/>\n      </g>\n     </g>\n    </g>\n    <g id=\"xtick_2\">\n     <g id=\"line2d_2\">\n      <g>\n       <use style=\"stroke:#000000;stroke-width:0.8;\" x=\"105.0886\" xlink:href=\"#mb0f39eb949\" y=\"224.64\"/>\n      </g>\n     </g>\n     <g id=\"text_2\">\n      <!-- 100 -->\n      <defs>\n       <path d=\"M 12.40625 8.296875 \nL 28.515625 8.296875 \nL 28.515625 63.921875 \nL 10.984375 60.40625 \nL 10.984375 69.390625 \nL 28.421875 72.90625 \nL 38.28125 72.90625 \nL 38.28125 8.296875 \nL 54.390625 8.296875 \nL 54.390625 0 \nL 12.40625 0 \nz\n\" id=\"DejaVuSans-49\"/>\n      </defs>\n      <g transform=\"translate(95.54485 239.238438)scale(0.1 -0.1)\">\n       <use xlink:href=\"#DejaVuSans-49\"/>\n       <use x=\"63.623047\" xlink:href=\"#DejaVuSans-48\"/>\n       <use x=\"127.246094\" xlink:href=\"#DejaVuSans-48\"/>\n      </g>\n     </g>\n    </g>\n    <g id=\"xtick_3\">\n     <g id=\"line2d_3\">\n      <g>\n       <use style=\"stroke:#000000;stroke-width:0.8;\" x=\"152.130893\" xlink:href=\"#mb0f39eb949\" y=\"224.64\"/>\n      </g>\n     </g>\n     <g id=\"text_3\">\n      <!-- 200 -->\n      <defs>\n       <path d=\"M 19.1875 8.296875 \nL 53.609375 8.296875 \nL 53.609375 0 \nL 7.328125 0 \nL 7.328125 8.296875 \nQ 12.9375 14.109375 22.625 23.890625 \nQ 32.328125 33.6875 34.8125 36.53125 \nQ 39.546875 41.84375 41.421875 45.53125 \nQ 43.3125 49.21875 43.3125 52.78125 \nQ 43.3125 58.59375 39.234375 62.25 \nQ 35.15625 65.921875 28.609375 65.921875 \nQ 23.96875 65.921875 18.8125 64.3125 \nQ 13.671875 62.703125 7.8125 59.421875 \nL 7.8125 69.390625 \nQ 13.765625 71.78125 18.9375 73 \nQ 24.125 74.21875 28.421875 74.21875 \nQ 39.75 74.21875 46.484375 68.546875 \nQ 53.21875 62.890625 53.21875 53.421875 \nQ 53.21875 48.921875 51.53125 44.890625 \nQ 49.859375 40.875 45.40625 35.40625 \nQ 44.1875 33.984375 37.640625 27.21875 \nQ 31.109375 20.453125 19.1875 8.296875 \nz\n\" id=\"DejaVuSans-50\"/>\n      </defs>\n      <g transform=\"translate(142.587143 239.238438)scale(0.1 -0.1)\">\n       <use xlink:href=\"#DejaVuSans-50\"/>\n       <use x=\"63.623047\" xlink:href=\"#DejaVuSans-48\"/>\n       <use x=\"127.246094\" xlink:href=\"#DejaVuSans-48\"/>\n      </g>\n     </g>\n    </g>\n    <g id=\"xtick_4\">\n     <g id=\"line2d_4\">\n      <g>\n       <use style=\"stroke:#000000;stroke-width:0.8;\" x=\"199.173186\" xlink:href=\"#mb0f39eb949\" y=\"224.64\"/>\n      </g>\n     </g>\n     <g id=\"text_4\">\n      <!-- 300 -->\n      <defs>\n       <path d=\"M 40.578125 39.3125 \nQ 47.65625 37.796875 51.625 33 \nQ 55.609375 28.21875 55.609375 21.1875 \nQ 55.609375 10.40625 48.1875 4.484375 \nQ 40.765625 -1.421875 27.09375 -1.421875 \nQ 22.515625 -1.421875 17.65625 -0.515625 \nQ 12.796875 0.390625 7.625 2.203125 \nL 7.625 11.71875 \nQ 11.71875 9.328125 16.59375 8.109375 \nQ 21.484375 6.890625 26.8125 6.890625 \nQ 36.078125 6.890625 40.9375 10.546875 \nQ 45.796875 14.203125 45.796875 21.1875 \nQ 45.796875 27.640625 41.28125 31.265625 \nQ 36.765625 34.90625 28.71875 34.90625 \nL 20.21875 34.90625 \nL 20.21875 43.015625 \nL 29.109375 43.015625 \nQ 36.375 43.015625 40.234375 45.921875 \nQ 44.09375 48.828125 44.09375 54.296875 \nQ 44.09375 59.90625 40.109375 62.90625 \nQ 36.140625 65.921875 28.71875 65.921875 \nQ 24.65625 65.921875 20.015625 65.03125 \nQ 15.375 64.15625 9.8125 62.3125 \nL 9.8125 71.09375 \nQ 15.4375 72.65625 20.34375 73.4375 \nQ 25.25 74.21875 29.59375 74.21875 \nQ 40.828125 74.21875 47.359375 69.109375 \nQ 53.90625 64.015625 53.90625 55.328125 \nQ 53.90625 49.265625 50.4375 45.09375 \nQ 46.96875 40.921875 40.578125 39.3125 \nz\n\" id=\"DejaVuSans-51\"/>\n      </defs>\n      <g transform=\"translate(189.629436 239.238438)scale(0.1 -0.1)\">\n       <use xlink:href=\"#DejaVuSans-51\"/>\n       <use x=\"63.623047\" xlink:href=\"#DejaVuSans-48\"/>\n       <use x=\"127.246094\" xlink:href=\"#DejaVuSans-48\"/>\n      </g>\n     </g>\n    </g>\n    <g id=\"xtick_5\">\n     <g id=\"line2d_5\">\n      <g>\n       <use style=\"stroke:#000000;stroke-width:0.8;\" x=\"246.215479\" xlink:href=\"#mb0f39eb949\" y=\"224.64\"/>\n      </g>\n     </g>\n     <g id=\"text_5\">\n      <!-- 400 -->\n      <defs>\n       <path d=\"M 37.796875 64.3125 \nL 12.890625 25.390625 \nL 37.796875 25.390625 \nz\nM 35.203125 72.90625 \nL 47.609375 72.90625 \nL 47.609375 25.390625 \nL 58.015625 25.390625 \nL 58.015625 17.1875 \nL 47.609375 17.1875 \nL 47.609375 0 \nL 37.796875 0 \nL 37.796875 17.1875 \nL 4.890625 17.1875 \nL 4.890625 26.703125 \nz\n\" id=\"DejaVuSans-52\"/>\n      </defs>\n      <g transform=\"translate(236.671729 239.238438)scale(0.1 -0.1)\">\n       <use xlink:href=\"#DejaVuSans-52\"/>\n       <use x=\"63.623047\" xlink:href=\"#DejaVuSans-48\"/>\n       <use x=\"127.246094\" xlink:href=\"#DejaVuSans-48\"/>\n      </g>\n     </g>\n    </g>\n    <g id=\"xtick_6\">\n     <g id=\"line2d_6\">\n      <g>\n       <use style=\"stroke:#000000;stroke-width:0.8;\" x=\"293.257772\" xlink:href=\"#mb0f39eb949\" y=\"224.64\"/>\n      </g>\n     </g>\n     <g id=\"text_6\">\n      <!-- 500 -->\n      <defs>\n       <path d=\"M 10.796875 72.90625 \nL 49.515625 72.90625 \nL 49.515625 64.59375 \nL 19.828125 64.59375 \nL 19.828125 46.734375 \nQ 21.96875 47.46875 24.109375 47.828125 \nQ 26.265625 48.1875 28.421875 48.1875 \nQ 40.625 48.1875 47.75 41.5 \nQ 54.890625 34.8125 54.890625 23.390625 \nQ 54.890625 11.625 47.5625 5.09375 \nQ 40.234375 -1.421875 26.90625 -1.421875 \nQ 22.3125 -1.421875 17.546875 -0.640625 \nQ 12.796875 0.140625 7.71875 1.703125 \nL 7.71875 11.625 \nQ 12.109375 9.234375 16.796875 8.0625 \nQ 21.484375 6.890625 26.703125 6.890625 \nQ 35.15625 6.890625 40.078125 11.328125 \nQ 45.015625 15.765625 45.015625 23.390625 \nQ 45.015625 31 40.078125 35.4375 \nQ 35.15625 39.890625 26.703125 39.890625 \nQ 22.75 39.890625 18.8125 39.015625 \nQ 14.890625 38.140625 10.796875 36.28125 \nz\n\" id=\"DejaVuSans-53\"/>\n      </defs>\n      <g transform=\"translate(283.714022 239.238438)scale(0.1 -0.1)\">\n       <use xlink:href=\"#DejaVuSans-53\"/>\n       <use x=\"63.623047\" xlink:href=\"#DejaVuSans-48\"/>\n       <use x=\"127.246094\" xlink:href=\"#DejaVuSans-48\"/>\n      </g>\n     </g>\n    </g>\n    <g id=\"xtick_7\">\n     <g id=\"line2d_7\">\n      <g>\n       <use style=\"stroke:#000000;stroke-width:0.8;\" x=\"340.300065\" xlink:href=\"#mb0f39eb949\" y=\"224.64\"/>\n      </g>\n     </g>\n     <g id=\"text_7\">\n      <!-- 600 -->\n      <defs>\n       <path d=\"M 33.015625 40.375 \nQ 26.375 40.375 22.484375 35.828125 \nQ 18.609375 31.296875 18.609375 23.390625 \nQ 18.609375 15.53125 22.484375 10.953125 \nQ 26.375 6.390625 33.015625 6.390625 \nQ 39.65625 6.390625 43.53125 10.953125 \nQ 47.40625 15.53125 47.40625 23.390625 \nQ 47.40625 31.296875 43.53125 35.828125 \nQ 39.65625 40.375 33.015625 40.375 \nz\nM 52.59375 71.296875 \nL 52.59375 62.3125 \nQ 48.875 64.0625 45.09375 64.984375 \nQ 41.3125 65.921875 37.59375 65.921875 \nQ 27.828125 65.921875 22.671875 59.328125 \nQ 17.53125 52.734375 16.796875 39.40625 \nQ 19.671875 43.65625 24.015625 45.921875 \nQ 28.375 48.1875 33.59375 48.1875 \nQ 44.578125 48.1875 50.953125 41.515625 \nQ 57.328125 34.859375 57.328125 23.390625 \nQ 57.328125 12.15625 50.6875 5.359375 \nQ 44.046875 -1.421875 33.015625 -1.421875 \nQ 20.359375 -1.421875 13.671875 8.265625 \nQ 6.984375 17.96875 6.984375 36.375 \nQ 6.984375 53.65625 15.1875 63.9375 \nQ 23.390625 74.21875 37.203125 74.21875 \nQ 40.921875 74.21875 44.703125 73.484375 \nQ 48.484375 72.75 52.59375 71.296875 \nz\n\" id=\"DejaVuSans-54\"/>\n      </defs>\n      <g transform=\"translate(330.756315 239.238438)scale(0.1 -0.1)\">\n       <use xlink:href=\"#DejaVuSans-54\"/>\n       <use x=\"63.623047\" xlink:href=\"#DejaVuSans-48\"/>\n       <use x=\"127.246094\" xlink:href=\"#DejaVuSans-48\"/>\n      </g>\n     </g>\n    </g>\n   </g>\n   <g id=\"matplotlib.axis_2\">\n    <g id=\"ytick_1\">\n     <g id=\"line2d_8\">\n      <defs>\n       <path d=\"M 0 0 \nL -3.5 0 \n\" id=\"m6d6252a3e3\" style=\"stroke:#000000;stroke-width:0.8;\"/>\n      </defs>\n      <g>\n       <use style=\"stroke:#000000;stroke-width:0.8;\" x=\"42.828125\" xlink:href=\"#m6d6252a3e3\" y=\"214.770232\"/>\n      </g>\n     </g>\n     <g id=\"text_8\">\n      <!-- 0.008 -->\n      <defs>\n       <path d=\"M 10.6875 12.40625 \nL 21 12.40625 \nL 21 0 \nL 10.6875 0 \nz\n\" id=\"DejaVuSans-46\"/>\n       <path d=\"M 31.78125 34.625 \nQ 24.75 34.625 20.71875 30.859375 \nQ 16.703125 27.09375 16.703125 20.515625 \nQ 16.703125 13.921875 20.71875 10.15625 \nQ 24.75 6.390625 31.78125 6.390625 \nQ 38.8125 6.390625 42.859375 10.171875 \nQ 46.921875 13.96875 46.921875 20.515625 \nQ 46.921875 27.09375 42.890625 30.859375 \nQ 38.875 34.625 31.78125 34.625 \nz\nM 21.921875 38.8125 \nQ 15.578125 40.375 12.03125 44.71875 \nQ 8.5 49.078125 8.5 55.328125 \nQ 8.5 64.0625 14.71875 69.140625 \nQ 20.953125 74.21875 31.78125 74.21875 \nQ 42.671875 74.21875 48.875 69.140625 \nQ 55.078125 64.0625 55.078125 55.328125 \nQ 55.078125 49.078125 51.53125 44.71875 \nQ 48 40.375 41.703125 38.8125 \nQ 48.828125 37.15625 52.796875 32.3125 \nQ 56.78125 27.484375 56.78125 20.515625 \nQ 56.78125 9.90625 50.3125 4.234375 \nQ 43.84375 -1.421875 31.78125 -1.421875 \nQ 19.734375 -1.421875 13.25 4.234375 \nQ 6.78125 9.90625 6.78125 20.515625 \nQ 6.78125 27.484375 10.78125 32.3125 \nQ 14.796875 37.15625 21.921875 38.8125 \nz\nM 18.3125 54.390625 \nQ 18.3125 48.734375 21.84375 45.5625 \nQ 25.390625 42.390625 31.78125 42.390625 \nQ 38.140625 42.390625 41.71875 45.5625 \nQ 45.3125 48.734375 45.3125 54.390625 \nQ 45.3125 60.0625 41.71875 63.234375 \nQ 38.140625 66.40625 31.78125 66.40625 \nQ 25.390625 66.40625 21.84375 63.234375 \nQ 18.3125 60.0625 18.3125 54.390625 \nz\n\" id=\"DejaVuSans-56\"/>\n      </defs>\n      <g transform=\"translate(7.2 218.569451)scale(0.1 -0.1)\">\n       <use xlink:href=\"#DejaVuSans-48\"/>\n       <use x=\"63.623047\" xlink:href=\"#DejaVuSans-46\"/>\n       <use x=\"95.410156\" xlink:href=\"#DejaVuSans-48\"/>\n       <use x=\"159.033203\" xlink:href=\"#DejaVuSans-48\"/>\n       <use x=\"222.65625\" xlink:href=\"#DejaVuSans-56\"/>\n      </g>\n     </g>\n    </g>\n    <g id=\"ytick_2\">\n     <g id=\"line2d_9\">\n      <g>\n       <use style=\"stroke:#000000;stroke-width:0.8;\" x=\"42.828125\" xlink:href=\"#m6d6252a3e3\" y=\"181.5669\"/>\n      </g>\n     </g>\n     <g id=\"text_9\">\n      <!-- 0.010 -->\n      <g transform=\"translate(7.2 185.366119)scale(0.1 -0.1)\">\n       <use xlink:href=\"#DejaVuSans-48\"/>\n       <use x=\"63.623047\" xlink:href=\"#DejaVuSans-46\"/>\n       <use x=\"95.410156\" xlink:href=\"#DejaVuSans-48\"/>\n       <use x=\"159.033203\" xlink:href=\"#DejaVuSans-49\"/>\n       <use x=\"222.65625\" xlink:href=\"#DejaVuSans-48\"/>\n      </g>\n     </g>\n    </g>\n    <g id=\"ytick_3\">\n     <g id=\"line2d_10\">\n      <g>\n       <use style=\"stroke:#000000;stroke-width:0.8;\" x=\"42.828125\" xlink:href=\"#m6d6252a3e3\" y=\"148.363568\"/>\n      </g>\n     </g>\n     <g id=\"text_10\">\n      <!-- 0.012 -->\n      <g transform=\"translate(7.2 152.162787)scale(0.1 -0.1)\">\n       <use xlink:href=\"#DejaVuSans-48\"/>\n       <use x=\"63.623047\" xlink:href=\"#DejaVuSans-46\"/>\n       <use x=\"95.410156\" xlink:href=\"#DejaVuSans-48\"/>\n       <use x=\"159.033203\" xlink:href=\"#DejaVuSans-49\"/>\n       <use x=\"222.65625\" xlink:href=\"#DejaVuSans-50\"/>\n      </g>\n     </g>\n    </g>\n    <g id=\"ytick_4\">\n     <g id=\"line2d_11\">\n      <g>\n       <use style=\"stroke:#000000;stroke-width:0.8;\" x=\"42.828125\" xlink:href=\"#m6d6252a3e3\" y=\"115.160236\"/>\n      </g>\n     </g>\n     <g id=\"text_11\">\n      <!-- 0.014 -->\n      <g transform=\"translate(7.2 118.959455)scale(0.1 -0.1)\">\n       <use xlink:href=\"#DejaVuSans-48\"/>\n       <use x=\"63.623047\" xlink:href=\"#DejaVuSans-46\"/>\n       <use x=\"95.410156\" xlink:href=\"#DejaVuSans-48\"/>\n       <use x=\"159.033203\" xlink:href=\"#DejaVuSans-49\"/>\n       <use x=\"222.65625\" xlink:href=\"#DejaVuSans-52\"/>\n      </g>\n     </g>\n    </g>\n    <g id=\"ytick_5\">\n     <g id=\"line2d_12\">\n      <g>\n       <use style=\"stroke:#000000;stroke-width:0.8;\" x=\"42.828125\" xlink:href=\"#m6d6252a3e3\" y=\"81.956905\"/>\n      </g>\n     </g>\n     <g id=\"text_12\">\n      <!-- 0.016 -->\n      <g transform=\"translate(7.2 85.756123)scale(0.1 -0.1)\">\n       <use xlink:href=\"#DejaVuSans-48\"/>\n       <use x=\"63.623047\" xlink:href=\"#DejaVuSans-46\"/>\n       <use x=\"95.410156\" xlink:href=\"#DejaVuSans-48\"/>\n       <use x=\"159.033203\" xlink:href=\"#DejaVuSans-49\"/>\n       <use x=\"222.65625\" xlink:href=\"#DejaVuSans-54\"/>\n      </g>\n     </g>\n    </g>\n    <g id=\"ytick_6\">\n     <g id=\"line2d_13\">\n      <g>\n       <use style=\"stroke:#000000;stroke-width:0.8;\" x=\"42.828125\" xlink:href=\"#m6d6252a3e3\" y=\"48.753573\"/>\n      </g>\n     </g>\n     <g id=\"text_13\">\n      <!-- 0.018 -->\n      <g transform=\"translate(7.2 52.552791)scale(0.1 -0.1)\">\n       <use xlink:href=\"#DejaVuSans-48\"/>\n       <use x=\"63.623047\" xlink:href=\"#DejaVuSans-46\"/>\n       <use x=\"95.410156\" xlink:href=\"#DejaVuSans-48\"/>\n       <use x=\"159.033203\" xlink:href=\"#DejaVuSans-49\"/>\n       <use x=\"222.65625\" xlink:href=\"#DejaVuSans-56\"/>\n      </g>\n     </g>\n    </g>\n    <g id=\"ytick_7\">\n     <g id=\"line2d_14\">\n      <g>\n       <use style=\"stroke:#000000;stroke-width:0.8;\" x=\"42.828125\" xlink:href=\"#m6d6252a3e3\" y=\"15.550241\"/>\n      </g>\n     </g>\n     <g id=\"text_14\">\n      <!-- 0.020 -->\n      <g transform=\"translate(7.2 19.34946)scale(0.1 -0.1)\">\n       <use xlink:href=\"#DejaVuSans-48\"/>\n       <use x=\"63.623047\" xlink:href=\"#DejaVuSans-46\"/>\n       <use x=\"95.410156\" xlink:href=\"#DejaVuSans-48\"/>\n       <use x=\"159.033203\" xlink:href=\"#DejaVuSans-50\"/>\n       <use x=\"222.65625\" xlink:href=\"#DejaVuSans-48\"/>\n      </g>\n     </g>\n    </g>\n   </g>\n   <g id=\"line2d_15\">\n    <path clip-path=\"url(#p700420f89c)\" d=\"M 58.046307 17.083636 \nL 58.987153 23.441151 \nL 59.457576 25.463211 \nL 59.927999 26.492161 \nL 60.398421 28.571017 \nL 60.868844 29.389568 \nL 61.80969 32.662412 \nL 62.750536 34.660656 \nL 63.220959 36.398625 \nL 63.691382 36.849502 \nL 64.161805 38.818012 \nL 64.632228 39.69589 \nL 66.984343 50.011208 \nL 67.925188 53.539764 \nL 68.395611 54.534502 \nL 68.866034 56.713291 \nL 70.747726 63.188931 \nL 71.218149 63.828207 \nL 72.629418 67.477227 \nL 73.099841 67.416509 \nL 73.570264 68.829614 \nL 74.040686 69.845877 \nL 74.511109 71.444294 \nL 74.981532 72.20723 \nL 75.451955 72.310545 \nL 75.922378 73.823769 \nL 76.392801 74.124704 \nL 76.863224 75.780344 \nL 77.333647 76.492955 \nL 77.80407 77.679003 \nL 78.274493 77.437336 \nL 78.744916 78.302182 \nL 79.215339 80.145759 \nL 80.626608 82.706469 \nL 81.09703 83.400953 \nL 81.567453 85.139293 \nL 82.508299 85.691711 \nL 82.978722 86.416974 \nL 83.449145 87.795784 \nL 83.919568 87.515453 \nL 84.389991 88.462658 \nL 85.330837 89.327922 \nL 85.80126 90.460571 \nL 86.271683 90.971534 \nL 86.742106 91.772834 \nL 87.212529 91.689795 \nL 87.682951 93.205136 \nL 88.153374 92.742925 \nL 88.623797 93.557641 \nL 89.09422 94.765012 \nL 89.564643 94.827924 \nL 90.035066 95.34209 \nL 90.505489 95.154239 \nL 91.446335 97.080164 \nL 91.916758 97.061906 \nL 92.387181 98.127922 \nL 92.857604 98.051793 \nL 93.328027 98.881624 \nL 93.79845 99.949898 \nL 94.268873 99.992293 \nL 94.739295 100.233334 \nL 96.620987 103.291421 \nL 97.09141 103.554159 \nL 97.561833 103.485607 \nL 98.502679 105.071198 \nL 98.973102 105.241392 \nL 99.443525 105.910853 \nL 99.913948 106.2377 \nL 100.384371 107.374589 \nL 101.325216 108.588914 \nL 101.795639 108.474772 \nL 102.736485 109.440489 \nL 103.206908 110.341705 \nL 103.677331 107.544394 \nL 104.147754 108.581064 \nL 104.618177 109.001901 \nL 105.0886 109.754204 \nL 105.559023 109.871427 \nL 106.029446 110.630084 \nL 106.499869 113.049403 \nL 106.970292 113.467277 \nL 107.911138 115.042034 \nL 108.38156 115.014144 \nL 109.322406 116.718465 \nL 110.733675 117.908261 \nL 111.204098 119.09777 \nL 111.674521 117.74825 \nL 113.08579 121.505948 \nL 113.556213 121.720757 \nL 114.026636 123.026681 \nL 114.497059 122.585025 \nL 114.967481 123.32403 \nL 115.437904 122.140604 \nL 115.908327 123.822429 \nL 116.37875 124.52045 \nL 116.849173 124.03545 \nL 117.790019 125.199114 \nL 118.730865 127.997665 \nL 119.201288 126.2658 \nL 119.671711 128.412749 \nL 120.142134 129.461157 \nL 120.612557 129.846757 \nL 121.08298 129.843107 \nL 121.553403 131.837066 \nL 122.023825 131.868495 \nL 122.494248 133.414776 \nL 122.964671 130.600057 \nL 123.905517 133.327604 \nL 124.37594 133.68541 \nL 126.257632 137.731843 \nL 126.728055 136.874785 \nL 127.198478 137.195581 \nL 127.668901 138.120269 \nL 128.139324 138.110134 \nL 129.550592 139.969456 \nL 130.021015 139.849068 \nL 130.491438 141.368429 \nL 131.432284 140.690228 \nL 131.902707 142.899471 \nL 132.37313 141.764844 \nL 132.843553 141.763716 \nL 133.313976 143.217958 \nL 133.784399 142.071209 \nL 134.254822 142.659789 \nL 134.725245 144.943574 \nL 135.195668 142.778313 \nL 135.66609 143.267002 \nL 136.136513 144.286002 \nL 136.606936 147.186336 \nL 137.547782 148.36734 \nL 138.018205 143.842759 \nL 138.488628 142.906196 \nL 138.959051 146.510176 \nL 139.429474 146.089424 \nL 139.899897 147.827427 \nL 140.37032 148.897344 \nL 140.840743 148.887045 \nL 141.311166 149.906319 \nL 141.781589 152.770821 \nL 142.252011 153.930696 \nL 142.722434 153.484955 \nL 143.66328 153.793995 \nL 144.133703 153.370417 \nL 145.074549 155.159534 \nL 145.544972 155.729886 \nL 146.015395 157.664268 \nL 146.485818 157.0526 \nL 146.956241 157.531637 \nL 147.426664 154.678745 \nL 148.36751 156.062644 \nL 148.837933 156.531529 \nL 149.308355 158.277468 \nL 149.778778 158.979178 \nL 150.249201 160.422006 \nL 150.719624 161.307063 \nL 151.190047 161.710171 \nL 151.66047 161.464339 \nL 152.130893 162.277113 \nL 152.601316 159.678541 \nL 153.071739 161.315343 \nL 153.542162 162.17182 \nL 154.012585 161.851898 \nL 154.483008 161.841339 \nL 154.953431 161.441987 \nL 155.423854 161.998194 \nL 155.894276 161.99403 \nL 156.835122 165.373806 \nL 157.305545 164.230102 \nL 157.775968 163.717566 \nL 158.246391 164.483212 \nL 159.187237 164.699911 \nL 159.65766 164.779154 \nL 160.128083 163.80361 \nL 160.598506 164.717856 \nL 161.068929 164.290901 \nL 162.009775 168.153061 \nL 162.95062 168.285128 \nL 163.891466 169.086356 \nL 164.361889 170.776267 \nL 164.832312 169.664467 \nL 165.773158 172.270044 \nL 166.243581 172.118143 \nL 166.714004 172.502234 \nL 167.65485 168.960746 \nL 168.125273 170.507439 \nL 168.595696 169.340482 \nL 169.066119 170.105866 \nL 169.536541 174.306537 \nL 170.006964 172.264309 \nL 170.477387 172.972711 \nL 170.94781 174.738599 \nL 171.418233 174.085857 \nL 171.888656 173.967312 \nL 172.359079 174.372716 \nL 172.829502 171.225367 \nL 173.299925 168.94945 \nL 173.770348 173.534897 \nL 174.240771 173.969464 \nL 174.711194 175.846889 \nL 175.181617 174.381666 \nL 175.65204 175.731051 \nL 176.122463 174.780647 \nL 176.592885 175.822479 \nL 177.063308 177.313933 \nL 177.533731 175.486386 \nL 178.004154 175.94598 \nL 178.474577 175.434677 \nL 178.945 174.479682 \nL 179.415423 175.67149 \nL 180.356269 176.546253 \nL 180.826692 175.797364 \nL 181.297115 177.600061 \nL 181.767538 177.201362 \nL 182.237961 178.762291 \nL 182.708384 178.938842 \nL 183.178806 177.735432 \nL 184.119652 178.714377 \nL 184.590075 178.909482 \nL 185.060498 180.59136 \nL 185.530921 181.11336 \nL 186.001344 180.308438 \nL 186.471767 179.044731 \nL 186.94219 181.611812 \nL 187.412613 181.061468 \nL 187.883036 182.056833 \nL 188.353459 182.77911 \nL 188.823882 176.163613 \nL 189.294305 175.737844 \nL 189.764728 175.667178 \nL 190.23515 176.380399 \nL 190.705573 178.773068 \nL 191.175996 180.052133 \nL 191.646419 180.891935 \nL 192.116842 181.378673 \nL 192.587265 182.755389 \nL 193.057688 184.900086 \nL 193.528111 182.646181 \nL 193.998534 185.110179 \nL 194.468957 184.662877 \nL 194.93938 182.829311 \nL 195.409803 184.985123 \nL 195.880226 184.458086 \nL 196.350649 186.31945 \nL 196.821071 185.633712 \nL 197.291494 185.557875 \nL 197.761917 185.075179 \nL 198.23234 185.1775 \nL 198.702763 186.901347 \nL 199.173186 186.805642 \nL 199.643609 184.733772 \nL 200.114032 184.746073 \nL 200.584455 183.008122 \nL 201.054878 183.33909 \nL 201.525301 186.58401 \nL 201.995724 186.546696 \nL 202.466147 185.983039 \nL 202.93657 186.056474 \nL 203.406993 185.766094 \nL 203.877415 187.834507 \nL 204.347838 188.283512 \nL 204.818261 189.409344 \nL 205.288684 187.018227 \nL 206.22953 187.984811 \nL 206.699953 187.651775 \nL 207.170376 187.567299 \nL 207.640799 186.954196 \nL 208.111222 186.024392 \nL 208.581645 187.854557 \nL 209.052068 189.178497 \nL 209.522491 186.823094 \nL 209.992914 186.93337 \nL 210.463336 187.501022 \nL 210.933759 191.044194 \nL 211.404182 189.633576 \nL 211.874605 189.069395 \nL 212.345028 190.921067 \nL 212.815451 191.098018 \nL 213.285874 191.018273 \nL 213.756297 191.869344 \nL 214.22672 191.445301 \nL 214.697143 191.416828 \nL 215.167566 189.859334 \nL 215.637989 187.026461 \nL 216.578835 192.920614 \nL 217.51968 189.854694 \nL 217.990103 191.63122 \nL 218.460526 192.377543 \nL 218.930949 191.639758 \nL 219.401372 191.218845 \nL 219.871795 181.271911 \nL 220.342218 181.456329 \nL 220.812641 184.222722 \nL 221.283064 189.23594 \nL 221.753487 189.803429 \nL 222.694333 191.717866 \nL 223.164756 191.101772 \nL 223.635179 192.228382 \nL 224.105601 193.060958 \nL 224.576024 193.418254 \nL 225.046447 194.130073 \nL 225.51687 193.425289 \nL 225.987293 193.919589 \nL 226.457716 192.90989 \nL 226.928139 195.778013 \nL 227.398562 193.899938 \nL 227.868985 195.200007 \nL 228.339408 193.114472 \nL 228.809831 194.256661 \nL 230.2211 194.970056 \nL 230.691522 195.728257 \nL 231.161945 187.807369 \nL 231.632368 189.775862 \nL 232.102791 192.511539 \nL 233.043637 195.905431 \nL 233.51406 194.154119 \nL 233.984483 196.232455 \nL 234.454906 197.240965 \nL 234.925329 197.897332 \nL 235.395752 197.6674 \nL 235.866175 196.404172 \nL 236.336598 197.038565 \nL 237.277444 194.204959 \nL 237.747866 195.475065 \nL 238.218289 198.448263 \nL 238.688712 197.386937 \nL 239.159135 197.955499 \nL 239.629558 197.941167 \nL 240.099981 199.682178 \nL 240.570404 194.907073 \nL 241.040827 196.204405 \nL 241.51125 197.854914 \nL 241.981673 198.333157 \nL 242.452096 196.557193 \nL 242.922519 197.278056 \nL 243.392942 198.996648 \nL 243.863365 197.536326 \nL 244.333787 199.280631 \nL 244.80421 199.348246 \nL 245.274633 200.212381 \nL 245.745056 197.370604 \nL 246.215479 196.974989 \nL 246.685902 199.918245 \nL 247.156325 199.096434 \nL 247.626748 197.514729 \nL 248.097171 197.431445 \nL 248.567594 192.882084 \nL 249.038017 193.977939 \nL 249.978863 200.37914 \nL 250.449286 200.427631 \nL 250.919709 201.013447 \nL 251.390131 200.813046 \nL 251.860554 202.41641 \nL 252.330977 199.808852 \nL 252.8014 200.509699 \nL 253.271823 200.863242 \nL 253.742246 199.229483 \nL 254.212669 200.947677 \nL 255.153515 200.046826 \nL 256.094361 202.435611 \nL 256.564784 199.29472 \nL 257.035207 200.455263 \nL 257.50563 200.907123 \nL 257.976052 199.409723 \nL 258.446475 200.470712 \nL 259.387321 201.891206 \nL 259.857744 200.561086 \nL 260.328167 200.133987 \nL 260.79859 200.544195 \nL 261.269013 202.202221 \nL 261.739436 201.233337 \nL 262.209859 199.739546 \nL 263.150705 200.488322 \nL 263.621128 203.918 \nL 264.091551 203.241169 \nL 264.561974 202.323955 \nL 265.032396 202.262953 \nL 265.502819 201.339626 \nL 265.973242 201.312811 \nL 266.443665 200.851223 \nL 266.914088 202.628617 \nL 267.384511 202.666515 \nL 267.854934 202.858128 \nL 268.325357 198.154367 \nL 268.79578 201.403308 \nL 269.266203 203.663584 \nL 269.736626 203.965507 \nL 270.207049 201.597295 \nL 270.677472 203.006399 \nL 271.147895 203.387006 \nL 271.618317 204.335967 \nL 272.08874 204.407037 \nL 272.559163 204.6847 \nL 273.029586 204.734623 \nL 273.500009 203.189052 \nL 273.970432 203.230397 \nL 274.440855 204.69927 \nL 274.911278 203.711086 \nL 275.381701 200.64695 \nL 276.322547 205.530555 \nL 276.79297 206.539431 \nL 277.263393 204.46529 \nL 277.733816 205.18274 \nL 278.204239 203.894973 \nL 278.674661 204.929462 \nL 279.145084 202.756683 \nL 279.615507 204.587807 \nL 280.08593 203.091549 \nL 280.556353 202.506169 \nL 281.026776 201.614367 \nL 281.497199 202.059395 \nL 281.967622 204.227001 \nL 282.438045 205.286617 \nL 282.908468 206.723758 \nL 283.378891 206.805829 \nL 283.849314 205.86639 \nL 284.319737 205.452425 \nL 284.79016 206.052376 \nL 285.260582 206.172403 \nL 285.731005 206.01853 \nL 286.201428 205.201772 \nL 286.671851 205.732673 \nL 287.142274 205.542973 \nL 287.612697 204.016833 \nL 288.08312 205.11937 \nL 288.553543 205.567122 \nL 289.023966 204.459128 \nL 289.494389 206.147694 \nL 290.435235 202.875916 \nL 290.905658 203.78798 \nL 291.376081 202.899562 \nL 292.316926 207.940648 \nL 292.787349 206.541505 \nL 293.257772 206.601286 \nL 293.728195 204.727474 \nL 294.198618 204.979116 \nL 294.669041 205.451703 \nL 295.139464 205.71689 \nL 295.609887 207.776233 \nL 296.08031 206.725304 \nL 296.550733 207.170958 \nL 297.021156 205.767011 \nL 297.491579 207.68278 \nL 297.962002 206.865176 \nL 298.432425 207.082654 \nL 298.902847 206.714318 \nL 299.37327 207.433528 \nL 299.843693 208.555093 \nL 300.314116 206.660386 \nL 300.784539 203.784994 \nL 301.254962 202.173635 \nL 301.725385 206.309889 \nL 302.195808 206.957273 \nL 302.666231 206.697069 \nL 303.136654 207.906177 \nL 304.0775 208.365959 \nL 304.547923 209.001741 \nL 305.018346 207.940529 \nL 305.488769 208.378712 \nL 305.959191 208.315467 \nL 306.429614 208.001431 \nL 306.900037 207.086376 \nL 307.840883 209.3798 \nL 308.311306 209.391257 \nL 308.781729 209.994229 \nL 309.252152 207.679624 \nL 309.722575 201.519855 \nL 310.192998 197.666014 \nL 310.663421 203.452756 \nL 311.133844 207.128194 \nL 311.604267 207.073616 \nL 312.545112 209.770077 \nL 313.015535 211.21159 \nL 313.485958 209.1062 \nL 313.956381 208.628682 \nL 314.426804 208.309555 \nL 314.897227 209.171816 \nL 315.36765 209.542152 \nL 316.308496 207.581691 \nL 316.778919 209.531891 \nL 317.249342 210.377667 \nL 317.719765 207.902103 \nL 318.190188 203.595513 \nL 318.660611 205.230616 \nL 319.131034 208.791356 \nL 319.601456 207.937005 \nL 320.071879 206.206912 \nL 320.542302 200.099825 \nL 321.012725 199.603018 \nL 321.483148 200.232814 \nL 321.953571 205.876338 \nL 322.423994 207.521738 \nL 322.894417 206.974161 \nL 323.36484 207.25088 \nL 323.835263 206.769704 \nL 324.305686 205.854556 \nL 324.776109 208.22804 \nL 325.246532 207.66219 \nL 325.716955 208.504188 \nL 326.187377 211.472914 \nL 326.6578 210.114874 \nL 327.128223 210.218777 \nL 327.598646 208.418762 \nL 328.069069 211.581418 \nL 328.539492 208.847936 \nL 329.009915 208.726008 \nL 329.480338 208.183186 \nL 329.950761 211.160599 \nL 330.421184 208.207034 \nL 330.891607 206.233665 \nL 331.36203 210.441478 \nL 331.832453 209.879703 \nL 332.302876 211.862984 \nL 332.773299 211.796361 \nL 333.243721 209.273259 \nL 333.714144 209.917047 \nL 334.184567 212.381301 \nL 335.125413 210.214765 \nL 335.595836 210.245592 \nL 336.536682 212.390031 \nL 337.007105 210.5318 \nL 337.477528 209.853741 \nL 337.947951 211.595816 \nL 338.418374 207.987801 \nL 338.888797 205.443753 \nL 339.35922 208.515489 \nL 339.829642 208.314365 \nL 340.300065 210.615757 \nL 341.711334 211.313802 \nL 342.181757 212.643981 \nL 342.65218 212.74979 \nL 343.122603 212.062568 \nL 343.593026 212.167883 \nL 344.063449 210.87165 \nL 344.533872 211.190552 \nL 345.004295 210.979509 \nL 345.474718 212.37189 \nL 345.945141 210.583323 \nL 346.415564 211.394124 \nL 346.885986 211.86341 \nL 347.356409 212.691174 \nL 347.826832 212.807174 \nL 348.297255 211.513966 \nL 348.767678 210.943664 \nL 349.708524 211.545129 \nL 350.178947 212.224999 \nL 350.64937 212.506695 \nL 351.119793 212.131377 \nL 351.590216 212.77194 \nL 352.060639 212.14756 \nL 352.531062 212.863927 \nL 353.001485 213.29317 \nL 353.471907 212.906187 \nL 353.94233 213.435352 \nL 354.412753 210.828 \nL 354.883176 214.095485 \nL 355.353599 192.024827 \nL 355.824022 191.351421 \nL 356.294445 204.545439 \nL 357.235291 212.702301 \nL 357.705714 210.852658 \nL 358.176137 210.653686 \nL 358.64656 212.879621 \nL 359.116983 212.501416 \nL 359.587406 212.707803 \nL 360.057829 212.567454 \nL 360.528251 213.639591 \nL 360.998674 212.98548 \nL 361.469097 214.756364 \nL 361.93952 212.845112 \nL 362.409943 213.099733 \nL 362.409943 213.099733 \n\" style=\"fill:none;stroke:#1f77b4;stroke-linecap:square;stroke-width:1.5;\"/>\n   </g>\n   <g id=\"patch_3\">\n    <path d=\"M 42.828125 224.64 \nL 42.828125 7.2 \n\" style=\"fill:none;stroke:#000000;stroke-linecap:square;stroke-linejoin:miter;stroke-width:0.8;\"/>\n   </g>\n   <g id=\"patch_4\">\n    <path d=\"M 377.628125 224.64 \nL 377.628125 7.2 \n\" style=\"fill:none;stroke:#000000;stroke-linecap:square;stroke-linejoin:miter;stroke-width:0.8;\"/>\n   </g>\n   <g id=\"patch_5\">\n    <path d=\"M 42.828125 224.64 \nL 377.628125 224.64 \n\" style=\"fill:none;stroke:#000000;stroke-linecap:square;stroke-linejoin:miter;stroke-width:0.8;\"/>\n   </g>\n   <g id=\"patch_6\">\n    <path d=\"M 42.828125 7.2 \nL 377.628125 7.2 \n\" style=\"fill:none;stroke:#000000;stroke-linecap:square;stroke-linejoin:miter;stroke-width:0.8;\"/>\n   </g>\n  </g>\n </g>\n <defs>\n  <clipPath id=\"p700420f89c\">\n   <rect height=\"217.44\" width=\"334.8\" x=\"42.828125\" y=\"7.2\"/>\n  </clipPath>\n </defs>\n</svg>\n",
      "image/png": "[encoded data removed]"
     },
     "metadata": {
      "needs_background": "light"
     }
    }
   ],
   "source": [
    "# plot losses (drop first epochs to have a nice plot)\n",
    "plt.plot(clf.history['train']['loss'][5:])\n",
    "plt.plot(clf.history['valid']['loss'][5:])"
   ]
  },
  {
   "cell_type": "code",
   "execution_count": 22,
   "metadata": {
    "execution": {
     "iopub.execute_input": "2020-09-20T14:51:13.999594Z",
     "iopub.status.busy": "2020-09-20T14:51:13.994050Z",
     "iopub.status.idle": "2020-09-20T14:51:14.133159Z",
     "shell.execute_reply": "2020-09-20T14:51:14.133693Z"
    },
    "papermill": {
     "duration": 0.237925,
     "end_time": "2020-09-20T14:51:14.133835",
     "exception": false,
     "start_time": "2020-09-20T14:51:13.895910",
     "status": "completed"
    },
    "tags": []
   },
   "outputs": [
    {
     "output_type": "execute_result",
     "data": {
      "text/plain": [
       "[<matplotlib.lines.Line2D at 0x7fc112b0e490>]"
      ]
     },
     "metadata": {},
     "execution_count": 22
    },
    {
     "output_type": "display_data",
     "data": {
      "text/plain": "<Figure size 432x288 with 1 Axes>",
      "image/svg+xml": "<?xml version=\"1.0\" encoding=\"utf-8\" standalone=\"no\"?>\n<!DOCTYPE svg PUBLIC \"-//W3C//DTD SVG 1.1//EN\"\n  \"http://www.w3.org/Graphics/SVG/1.1/DTD/svg11.dtd\">\n<!-- Created with matplotlib (https://matplotlib.org/) -->\n<svg height=\"248.518125pt\" version=\"1.1\" viewBox=\"0 0 397.553125 248.518125\" width=\"397.553125pt\" xmlns=\"http://www.w3.org/2000/svg\" xmlns:xlink=\"http://www.w3.org/1999/xlink\">\n <defs>\n  <style type=\"text/css\">\n*{stroke-linecap:butt;stroke-linejoin:round;}\n  </style>\n </defs>\n <g id=\"figure_1\">\n  <g id=\"patch_1\">\n   <path d=\"M 0 248.518125 \nL 397.553125 248.518125 \nL 397.553125 0 \nL 0 0 \nz\n\" style=\"fill:none;\"/>\n  </g>\n  <g id=\"axes_1\">\n   <g id=\"patch_2\">\n    <path d=\"M 55.553125 224.64 \nL 390.353125 224.64 \nL 390.353125 7.2 \nL 55.553125 7.2 \nz\n\" style=\"fill:#ffffff;\"/>\n   </g>\n   <g id=\"matplotlib.axis_1\">\n    <g id=\"xtick_1\">\n     <g id=\"line2d_1\">\n      <defs>\n       <path d=\"M 0 0 \nL 0 3.5 \n\" id=\"mbc731cbe64\" style=\"stroke:#000000;stroke-width:0.8;\"/>\n      </defs>\n      <g>\n       <use style=\"stroke:#000000;stroke-width:0.8;\" x=\"70.771307\" xlink:href=\"#mbc731cbe64\" y=\"224.64\"/>\n      </g>\n     </g>\n     <g id=\"text_1\">\n      <!-- 0 -->\n      <defs>\n       <path d=\"M 31.78125 66.40625 \nQ 24.171875 66.40625 20.328125 58.90625 \nQ 16.5 51.421875 16.5 36.375 \nQ 16.5 21.390625 20.328125 13.890625 \nQ 24.171875 6.390625 31.78125 6.390625 \nQ 39.453125 6.390625 43.28125 13.890625 \nQ 47.125 21.390625 47.125 36.375 \nQ 47.125 51.421875 43.28125 58.90625 \nQ 39.453125 66.40625 31.78125 66.40625 \nz\nM 31.78125 74.21875 \nQ 44.046875 74.21875 50.515625 64.515625 \nQ 56.984375 54.828125 56.984375 36.375 \nQ 56.984375 17.96875 50.515625 8.265625 \nQ 44.046875 -1.421875 31.78125 -1.421875 \nQ 19.53125 -1.421875 13.0625 8.265625 \nQ 6.59375 17.96875 6.59375 36.375 \nQ 6.59375 54.828125 13.0625 64.515625 \nQ 19.53125 74.21875 31.78125 74.21875 \nz\n\" id=\"DejaVuSans-48\"/>\n      </defs>\n      <g transform=\"translate(67.590057 239.238437)scale(0.1 -0.1)\">\n       <use xlink:href=\"#DejaVuSans-48\"/>\n      </g>\n     </g>\n    </g>\n    <g id=\"xtick_2\">\n     <g id=\"line2d_2\">\n      <g>\n       <use style=\"stroke:#000000;stroke-width:0.8;\" x=\"117.8136\" xlink:href=\"#mbc731cbe64\" y=\"224.64\"/>\n      </g>\n     </g>\n     <g id=\"text_2\">\n      <!-- 100 -->\n      <defs>\n       <path d=\"M 12.40625 8.296875 \nL 28.515625 8.296875 \nL 28.515625 63.921875 \nL 10.984375 60.40625 \nL 10.984375 69.390625 \nL 28.421875 72.90625 \nL 38.28125 72.90625 \nL 38.28125 8.296875 \nL 54.390625 8.296875 \nL 54.390625 0 \nL 12.40625 0 \nz\n\" id=\"DejaVuSans-49\"/>\n      </defs>\n      <g transform=\"translate(108.26985 239.238437)scale(0.1 -0.1)\">\n       <use xlink:href=\"#DejaVuSans-49\"/>\n       <use x=\"63.623047\" xlink:href=\"#DejaVuSans-48\"/>\n       <use x=\"127.246094\" xlink:href=\"#DejaVuSans-48\"/>\n      </g>\n     </g>\n    </g>\n    <g id=\"xtick_3\">\n     <g id=\"line2d_3\">\n      <g>\n       <use style=\"stroke:#000000;stroke-width:0.8;\" x=\"164.855893\" xlink:href=\"#mbc731cbe64\" y=\"224.64\"/>\n      </g>\n     </g>\n     <g id=\"text_3\">\n      <!-- 200 -->\n      <defs>\n       <path d=\"M 19.1875 8.296875 \nL 53.609375 8.296875 \nL 53.609375 0 \nL 7.328125 0 \nL 7.328125 8.296875 \nQ 12.9375 14.109375 22.625 23.890625 \nQ 32.328125 33.6875 34.8125 36.53125 \nQ 39.546875 41.84375 41.421875 45.53125 \nQ 43.3125 49.21875 43.3125 52.78125 \nQ 43.3125 58.59375 39.234375 62.25 \nQ 35.15625 65.921875 28.609375 65.921875 \nQ 23.96875 65.921875 18.8125 64.3125 \nQ 13.671875 62.703125 7.8125 59.421875 \nL 7.8125 69.390625 \nQ 13.765625 71.78125 18.9375 73 \nQ 24.125 74.21875 28.421875 74.21875 \nQ 39.75 74.21875 46.484375 68.546875 \nQ 53.21875 62.890625 53.21875 53.421875 \nQ 53.21875 48.921875 51.53125 44.890625 \nQ 49.859375 40.875 45.40625 35.40625 \nQ 44.1875 33.984375 37.640625 27.21875 \nQ 31.109375 20.453125 19.1875 8.296875 \nz\n\" id=\"DejaVuSans-50\"/>\n      </defs>\n      <g transform=\"translate(155.312143 239.238437)scale(0.1 -0.1)\">\n       <use xlink:href=\"#DejaVuSans-50\"/>\n       <use x=\"63.623047\" xlink:href=\"#DejaVuSans-48\"/>\n       <use x=\"127.246094\" xlink:href=\"#DejaVuSans-48\"/>\n      </g>\n     </g>\n    </g>\n    <g id=\"xtick_4\">\n     <g id=\"line2d_4\">\n      <g>\n       <use style=\"stroke:#000000;stroke-width:0.8;\" x=\"211.898186\" xlink:href=\"#mbc731cbe64\" y=\"224.64\"/>\n      </g>\n     </g>\n     <g id=\"text_4\">\n      <!-- 300 -->\n      <defs>\n       <path d=\"M 40.578125 39.3125 \nQ 47.65625 37.796875 51.625 33 \nQ 55.609375 28.21875 55.609375 21.1875 \nQ 55.609375 10.40625 48.1875 4.484375 \nQ 40.765625 -1.421875 27.09375 -1.421875 \nQ 22.515625 -1.421875 17.65625 -0.515625 \nQ 12.796875 0.390625 7.625 2.203125 \nL 7.625 11.71875 \nQ 11.71875 9.328125 16.59375 8.109375 \nQ 21.484375 6.890625 26.8125 6.890625 \nQ 36.078125 6.890625 40.9375 10.546875 \nQ 45.796875 14.203125 45.796875 21.1875 \nQ 45.796875 27.640625 41.28125 31.265625 \nQ 36.765625 34.90625 28.71875 34.90625 \nL 20.21875 34.90625 \nL 20.21875 43.015625 \nL 29.109375 43.015625 \nQ 36.375 43.015625 40.234375 45.921875 \nQ 44.09375 48.828125 44.09375 54.296875 \nQ 44.09375 59.90625 40.109375 62.90625 \nQ 36.140625 65.921875 28.71875 65.921875 \nQ 24.65625 65.921875 20.015625 65.03125 \nQ 15.375 64.15625 9.8125 62.3125 \nL 9.8125 71.09375 \nQ 15.4375 72.65625 20.34375 73.4375 \nQ 25.25 74.21875 29.59375 74.21875 \nQ 40.828125 74.21875 47.359375 69.109375 \nQ 53.90625 64.015625 53.90625 55.328125 \nQ 53.90625 49.265625 50.4375 45.09375 \nQ 46.96875 40.921875 40.578125 39.3125 \nz\n\" id=\"DejaVuSans-51\"/>\n      </defs>\n      <g transform=\"translate(202.354436 239.238437)scale(0.1 -0.1)\">\n       <use xlink:href=\"#DejaVuSans-51\"/>\n       <use x=\"63.623047\" xlink:href=\"#DejaVuSans-48\"/>\n       <use x=\"127.246094\" xlink:href=\"#DejaVuSans-48\"/>\n      </g>\n     </g>\n    </g>\n    <g id=\"xtick_5\">\n     <g id=\"line2d_5\">\n      <g>\n       <use style=\"stroke:#000000;stroke-width:0.8;\" x=\"258.940479\" xlink:href=\"#mbc731cbe64\" y=\"224.64\"/>\n      </g>\n     </g>\n     <g id=\"text_5\">\n      <!-- 400 -->\n      <defs>\n       <path d=\"M 37.796875 64.3125 \nL 12.890625 25.390625 \nL 37.796875 25.390625 \nz\nM 35.203125 72.90625 \nL 47.609375 72.90625 \nL 47.609375 25.390625 \nL 58.015625 25.390625 \nL 58.015625 17.1875 \nL 47.609375 17.1875 \nL 47.609375 0 \nL 37.796875 0 \nL 37.796875 17.1875 \nL 4.890625 17.1875 \nL 4.890625 26.703125 \nz\n\" id=\"DejaVuSans-52\"/>\n      </defs>\n      <g transform=\"translate(249.396729 239.238437)scale(0.1 -0.1)\">\n       <use xlink:href=\"#DejaVuSans-52\"/>\n       <use x=\"63.623047\" xlink:href=\"#DejaVuSans-48\"/>\n       <use x=\"127.246094\" xlink:href=\"#DejaVuSans-48\"/>\n      </g>\n     </g>\n    </g>\n    <g id=\"xtick_6\">\n     <g id=\"line2d_6\">\n      <g>\n       <use style=\"stroke:#000000;stroke-width:0.8;\" x=\"305.982772\" xlink:href=\"#mbc731cbe64\" y=\"224.64\"/>\n      </g>\n     </g>\n     <g id=\"text_6\">\n      <!-- 500 -->\n      <defs>\n       <path d=\"M 10.796875 72.90625 \nL 49.515625 72.90625 \nL 49.515625 64.59375 \nL 19.828125 64.59375 \nL 19.828125 46.734375 \nQ 21.96875 47.46875 24.109375 47.828125 \nQ 26.265625 48.1875 28.421875 48.1875 \nQ 40.625 48.1875 47.75 41.5 \nQ 54.890625 34.8125 54.890625 23.390625 \nQ 54.890625 11.625 47.5625 5.09375 \nQ 40.234375 -1.421875 26.90625 -1.421875 \nQ 22.3125 -1.421875 17.546875 -0.640625 \nQ 12.796875 0.140625 7.71875 1.703125 \nL 7.71875 11.625 \nQ 12.109375 9.234375 16.796875 8.0625 \nQ 21.484375 6.890625 26.703125 6.890625 \nQ 35.15625 6.890625 40.078125 11.328125 \nQ 45.015625 15.765625 45.015625 23.390625 \nQ 45.015625 31 40.078125 35.4375 \nQ 35.15625 39.890625 26.703125 39.890625 \nQ 22.75 39.890625 18.8125 39.015625 \nQ 14.890625 38.140625 10.796875 36.28125 \nz\n\" id=\"DejaVuSans-53\"/>\n      </defs>\n      <g transform=\"translate(296.439022 239.238437)scale(0.1 -0.1)\">\n       <use xlink:href=\"#DejaVuSans-53\"/>\n       <use x=\"63.623047\" xlink:href=\"#DejaVuSans-48\"/>\n       <use x=\"127.246094\" xlink:href=\"#DejaVuSans-48\"/>\n      </g>\n     </g>\n    </g>\n    <g id=\"xtick_7\">\n     <g id=\"line2d_7\">\n      <g>\n       <use style=\"stroke:#000000;stroke-width:0.8;\" x=\"353.025065\" xlink:href=\"#mbc731cbe64\" y=\"224.64\"/>\n      </g>\n     </g>\n     <g id=\"text_7\">\n      <!-- 600 -->\n      <defs>\n       <path d=\"M 33.015625 40.375 \nQ 26.375 40.375 22.484375 35.828125 \nQ 18.609375 31.296875 18.609375 23.390625 \nQ 18.609375 15.53125 22.484375 10.953125 \nQ 26.375 6.390625 33.015625 6.390625 \nQ 39.65625 6.390625 43.53125 10.953125 \nQ 47.40625 15.53125 47.40625 23.390625 \nQ 47.40625 31.296875 43.53125 35.828125 \nQ 39.65625 40.375 33.015625 40.375 \nz\nM 52.59375 71.296875 \nL 52.59375 62.3125 \nQ 48.875 64.0625 45.09375 64.984375 \nQ 41.3125 65.921875 37.59375 65.921875 \nQ 27.828125 65.921875 22.671875 59.328125 \nQ 17.53125 52.734375 16.796875 39.40625 \nQ 19.671875 43.65625 24.015625 45.921875 \nQ 28.375 48.1875 33.59375 48.1875 \nQ 44.578125 48.1875 50.953125 41.515625 \nQ 57.328125 34.859375 57.328125 23.390625 \nQ 57.328125 12.15625 50.6875 5.359375 \nQ 44.046875 -1.421875 33.015625 -1.421875 \nQ 20.359375 -1.421875 13.671875 8.265625 \nQ 6.984375 17.96875 6.984375 36.375 \nQ 6.984375 53.65625 15.1875 63.9375 \nQ 23.390625 74.21875 37.203125 74.21875 \nQ 40.921875 74.21875 44.703125 73.484375 \nQ 48.484375 72.75 52.59375 71.296875 \nz\n\" id=\"DejaVuSans-54\"/>\n      </defs>\n      <g transform=\"translate(343.481315 239.238437)scale(0.1 -0.1)\">\n       <use xlink:href=\"#DejaVuSans-54\"/>\n       <use x=\"63.623047\" xlink:href=\"#DejaVuSans-48\"/>\n       <use x=\"127.246094\" xlink:href=\"#DejaVuSans-48\"/>\n      </g>\n     </g>\n    </g>\n   </g>\n   <g id=\"matplotlib.axis_2\">\n    <g id=\"ytick_1\">\n     <g id=\"line2d_8\">\n      <defs>\n       <path d=\"M 0 0 \nL -3.5 0 \n\" id=\"mad05a75a14\" style=\"stroke:#000000;stroke-width:0.8;\"/>\n      </defs>\n      <g>\n       <use style=\"stroke:#000000;stroke-width:0.8;\" x=\"55.553125\" xlink:href=\"#mad05a75a14\" y=\"214.756364\"/>\n      </g>\n     </g>\n     <g id=\"text_8\">\n      <!-- 0.01900 -->\n      <defs>\n       <path d=\"M 10.6875 12.40625 \nL 21 12.40625 \nL 21 0 \nL 10.6875 0 \nz\n\" id=\"DejaVuSans-46\"/>\n       <path d=\"M 10.984375 1.515625 \nL 10.984375 10.5 \nQ 14.703125 8.734375 18.5 7.8125 \nQ 22.3125 6.890625 25.984375 6.890625 \nQ 35.75 6.890625 40.890625 13.453125 \nQ 46.046875 20.015625 46.78125 33.40625 \nQ 43.953125 29.203125 39.59375 26.953125 \nQ 35.25 24.703125 29.984375 24.703125 \nQ 19.046875 24.703125 12.671875 31.3125 \nQ 6.296875 37.9375 6.296875 49.421875 \nQ 6.296875 60.640625 12.9375 67.421875 \nQ 19.578125 74.21875 30.609375 74.21875 \nQ 43.265625 74.21875 49.921875 64.515625 \nQ 56.59375 54.828125 56.59375 36.375 \nQ 56.59375 19.140625 48.40625 8.859375 \nQ 40.234375 -1.421875 26.421875 -1.421875 \nQ 22.703125 -1.421875 18.890625 -0.6875 \nQ 15.09375 0.046875 10.984375 1.515625 \nz\nM 30.609375 32.421875 \nQ 37.25 32.421875 41.125 36.953125 \nQ 45.015625 41.5 45.015625 49.421875 \nQ 45.015625 57.28125 41.125 61.84375 \nQ 37.25 66.40625 30.609375 66.40625 \nQ 23.96875 66.40625 20.09375 61.84375 \nQ 16.21875 57.28125 16.21875 49.421875 \nQ 16.21875 41.5 20.09375 36.953125 \nQ 23.96875 32.421875 30.609375 32.421875 \nz\n\" id=\"DejaVuSans-57\"/>\n      </defs>\n      <g transform=\"translate(7.2 218.555582)scale(0.1 -0.1)\">\n       <use xlink:href=\"#DejaVuSans-48\"/>\n       <use x=\"63.623047\" xlink:href=\"#DejaVuSans-46\"/>\n       <use x=\"95.410156\" xlink:href=\"#DejaVuSans-48\"/>\n       <use x=\"159.033203\" xlink:href=\"#DejaVuSans-49\"/>\n       <use x=\"222.65625\" xlink:href=\"#DejaVuSans-57\"/>\n       <use x=\"286.279297\" xlink:href=\"#DejaVuSans-48\"/>\n       <use x=\"349.902344\" xlink:href=\"#DejaVuSans-48\"/>\n      </g>\n     </g>\n    </g>\n    <g id=\"ytick_2\">\n     <g id=\"line2d_9\">\n      <g>\n       <use style=\"stroke:#000000;stroke-width:0.8;\" x=\"55.553125\" xlink:href=\"#mad05a75a14\" y=\"190.047273\"/>\n      </g>\n     </g>\n     <g id=\"text_9\">\n      <!-- 0.01925 -->\n      <g transform=\"translate(7.2 193.846491)scale(0.1 -0.1)\">\n       <use xlink:href=\"#DejaVuSans-48\"/>\n       <use x=\"63.623047\" xlink:href=\"#DejaVuSans-46\"/>\n       <use x=\"95.410156\" xlink:href=\"#DejaVuSans-48\"/>\n       <use x=\"159.033203\" xlink:href=\"#DejaVuSans-49\"/>\n       <use x=\"222.65625\" xlink:href=\"#DejaVuSans-57\"/>\n       <use x=\"286.279297\" xlink:href=\"#DejaVuSans-50\"/>\n       <use x=\"349.902344\" xlink:href=\"#DejaVuSans-53\"/>\n      </g>\n     </g>\n    </g>\n    <g id=\"ytick_3\">\n     <g id=\"line2d_10\">\n      <g>\n       <use style=\"stroke:#000000;stroke-width:0.8;\" x=\"55.553125\" xlink:href=\"#mad05a75a14\" y=\"165.338182\"/>\n      </g>\n     </g>\n     <g id=\"text_10\">\n      <!-- 0.01950 -->\n      <g transform=\"translate(7.2 169.137401)scale(0.1 -0.1)\">\n       <use xlink:href=\"#DejaVuSans-48\"/>\n       <use x=\"63.623047\" xlink:href=\"#DejaVuSans-46\"/>\n       <use x=\"95.410156\" xlink:href=\"#DejaVuSans-48\"/>\n       <use x=\"159.033203\" xlink:href=\"#DejaVuSans-49\"/>\n       <use x=\"222.65625\" xlink:href=\"#DejaVuSans-57\"/>\n       <use x=\"286.279297\" xlink:href=\"#DejaVuSans-53\"/>\n       <use x=\"349.902344\" xlink:href=\"#DejaVuSans-48\"/>\n      </g>\n     </g>\n    </g>\n    <g id=\"ytick_4\">\n     <g id=\"line2d_11\">\n      <g>\n       <use style=\"stroke:#000000;stroke-width:0.8;\" x=\"55.553125\" xlink:href=\"#mad05a75a14\" y=\"140.629091\"/>\n      </g>\n     </g>\n     <g id=\"text_11\">\n      <!-- 0.01975 -->\n      <defs>\n       <path d=\"M 8.203125 72.90625 \nL 55.078125 72.90625 \nL 55.078125 68.703125 \nL 28.609375 0 \nL 18.3125 0 \nL 43.21875 64.59375 \nL 8.203125 64.59375 \nz\n\" id=\"DejaVuSans-55\"/>\n      </defs>\n      <g transform=\"translate(7.2 144.42831)scale(0.1 -0.1)\">\n       <use xlink:href=\"#DejaVuSans-48\"/>\n       <use x=\"63.623047\" xlink:href=\"#DejaVuSans-46\"/>\n       <use x=\"95.410156\" xlink:href=\"#DejaVuSans-48\"/>\n       <use x=\"159.033203\" xlink:href=\"#DejaVuSans-49\"/>\n       <use x=\"222.65625\" xlink:href=\"#DejaVuSans-57\"/>\n       <use x=\"286.279297\" xlink:href=\"#DejaVuSans-55\"/>\n       <use x=\"349.902344\" xlink:href=\"#DejaVuSans-53\"/>\n      </g>\n     </g>\n    </g>\n    <g id=\"ytick_5\">\n     <g id=\"line2d_12\">\n      <g>\n       <use style=\"stroke:#000000;stroke-width:0.8;\" x=\"55.553125\" xlink:href=\"#mad05a75a14\" y=\"115.92\"/>\n      </g>\n     </g>\n     <g id=\"text_12\">\n      <!-- 0.02000 -->\n      <g transform=\"translate(7.2 119.719219)scale(0.1 -0.1)\">\n       <use xlink:href=\"#DejaVuSans-48\"/>\n       <use x=\"63.623047\" xlink:href=\"#DejaVuSans-46\"/>\n       <use x=\"95.410156\" xlink:href=\"#DejaVuSans-48\"/>\n       <use x=\"159.033203\" xlink:href=\"#DejaVuSans-50\"/>\n       <use x=\"222.65625\" xlink:href=\"#DejaVuSans-48\"/>\n       <use x=\"286.279297\" xlink:href=\"#DejaVuSans-48\"/>\n       <use x=\"349.902344\" xlink:href=\"#DejaVuSans-48\"/>\n      </g>\n     </g>\n    </g>\n    <g id=\"ytick_6\">\n     <g id=\"line2d_13\">\n      <g>\n       <use style=\"stroke:#000000;stroke-width:0.8;\" x=\"55.553125\" xlink:href=\"#mad05a75a14\" y=\"91.210909\"/>\n      </g>\n     </g>\n     <g id=\"text_13\">\n      <!-- 0.02025 -->\n      <g transform=\"translate(7.2 95.010128)scale(0.1 -0.1)\">\n       <use xlink:href=\"#DejaVuSans-48\"/>\n       <use x=\"63.623047\" xlink:href=\"#DejaVuSans-46\"/>\n       <use x=\"95.410156\" xlink:href=\"#DejaVuSans-48\"/>\n       <use x=\"159.033203\" xlink:href=\"#DejaVuSans-50\"/>\n       <use x=\"222.65625\" xlink:href=\"#DejaVuSans-48\"/>\n       <use x=\"286.279297\" xlink:href=\"#DejaVuSans-50\"/>\n       <use x=\"349.902344\" xlink:href=\"#DejaVuSans-53\"/>\n      </g>\n     </g>\n    </g>\n    <g id=\"ytick_7\">\n     <g id=\"line2d_14\">\n      <g>\n       <use style=\"stroke:#000000;stroke-width:0.8;\" x=\"55.553125\" xlink:href=\"#mad05a75a14\" y=\"66.501818\"/>\n      </g>\n     </g>\n     <g id=\"text_14\">\n      <!-- 0.02050 -->\n      <g transform=\"translate(7.2 70.301037)scale(0.1 -0.1)\">\n       <use xlink:href=\"#DejaVuSans-48\"/>\n       <use x=\"63.623047\" xlink:href=\"#DejaVuSans-46\"/>\n       <use x=\"95.410156\" xlink:href=\"#DejaVuSans-48\"/>\n       <use x=\"159.033203\" xlink:href=\"#DejaVuSans-50\"/>\n       <use x=\"222.65625\" xlink:href=\"#DejaVuSans-48\"/>\n       <use x=\"286.279297\" xlink:href=\"#DejaVuSans-53\"/>\n       <use x=\"349.902344\" xlink:href=\"#DejaVuSans-48\"/>\n      </g>\n     </g>\n    </g>\n    <g id=\"ytick_8\">\n     <g id=\"line2d_15\">\n      <g>\n       <use style=\"stroke:#000000;stroke-width:0.8;\" x=\"55.553125\" xlink:href=\"#mad05a75a14\" y=\"41.792727\"/>\n      </g>\n     </g>\n     <g id=\"text_15\">\n      <!-- 0.02075 -->\n      <g transform=\"translate(7.2 45.591946)scale(0.1 -0.1)\">\n       <use xlink:href=\"#DejaVuSans-48\"/>\n       <use x=\"63.623047\" xlink:href=\"#DejaVuSans-46\"/>\n       <use x=\"95.410156\" xlink:href=\"#DejaVuSans-48\"/>\n       <use x=\"159.033203\" xlink:href=\"#DejaVuSans-50\"/>\n       <use x=\"222.65625\" xlink:href=\"#DejaVuSans-48\"/>\n       <use x=\"286.279297\" xlink:href=\"#DejaVuSans-55\"/>\n       <use x=\"349.902344\" xlink:href=\"#DejaVuSans-53\"/>\n      </g>\n     </g>\n    </g>\n    <g id=\"ytick_9\">\n     <g id=\"line2d_16\">\n      <g>\n       <use style=\"stroke:#000000;stroke-width:0.8;\" x=\"55.553125\" xlink:href=\"#mad05a75a14\" y=\"17.083636\"/>\n      </g>\n     </g>\n     <g id=\"text_16\">\n      <!-- 0.02100 -->\n      <g transform=\"translate(7.2 20.882855)scale(0.1 -0.1)\">\n       <use xlink:href=\"#DejaVuSans-48\"/>\n       <use x=\"63.623047\" xlink:href=\"#DejaVuSans-46\"/>\n       <use x=\"95.410156\" xlink:href=\"#DejaVuSans-48\"/>\n       <use x=\"159.033203\" xlink:href=\"#DejaVuSans-50\"/>\n       <use x=\"222.65625\" xlink:href=\"#DejaVuSans-49\"/>\n       <use x=\"286.279297\" xlink:href=\"#DejaVuSans-48\"/>\n       <use x=\"349.902344\" xlink:href=\"#DejaVuSans-48\"/>\n      </g>\n     </g>\n    </g>\n   </g>\n   <g id=\"line2d_17\">\n    <path clip-path=\"url(#pf62e4fd1e7)\" d=\"M 70.771307 115.92 \nL 375.134943 115.92 \nL 375.134943 115.92 \n\" style=\"fill:none;stroke:#1f77b4;stroke-linecap:square;stroke-width:1.5;\"/>\n   </g>\n   <g id=\"patch_3\">\n    <path d=\"M 55.553125 224.64 \nL 55.553125 7.2 \n\" style=\"fill:none;stroke:#000000;stroke-linecap:square;stroke-linejoin:miter;stroke-width:0.8;\"/>\n   </g>\n   <g id=\"patch_4\">\n    <path d=\"M 390.353125 224.64 \nL 390.353125 7.2 \n\" style=\"fill:none;stroke:#000000;stroke-linecap:square;stroke-linejoin:miter;stroke-width:0.8;\"/>\n   </g>\n   <g id=\"patch_5\">\n    <path d=\"M 55.553125 224.64 \nL 390.353125 224.64 \n\" style=\"fill:none;stroke:#000000;stroke-linecap:square;stroke-linejoin:miter;stroke-width:0.8;\"/>\n   </g>\n   <g id=\"patch_6\">\n    <path d=\"M 55.553125 7.2 \nL 390.353125 7.2 \n\" style=\"fill:none;stroke:#000000;stroke-linecap:square;stroke-linejoin:miter;stroke-width:0.8;\"/>\n   </g>\n  </g>\n </g>\n <defs>\n  <clipPath id=\"pf62e4fd1e7\">\n   <rect height=\"217.44\" width=\"334.8\" x=\"55.553125\" y=\"7.2\"/>\n  </clipPath>\n </defs>\n</svg>\n",
      "image/png": "[encoded data removed]"
     },
     "metadata": {
      "needs_background": "light"
     }
    }
   ],
   "source": [
    "# plot learning rates\n",
    "plt.plot([x for x in clf.history['lr']][5:])"
   ]
  },
  {
   "cell_type": "markdown",
   "metadata": {
    "papermill": {
     "duration": 0.094343,
     "end_time": "2020-09-20T14:51:14.323793",
     "exception": false,
     "start_time": "2020-09-20T14:51:14.229450",
     "status": "completed"
    },
    "tags": []
   },
   "source": [
    "# Validation\n",
    "\n",
    "I don't know if people have been looking at these AUCs plots but some tasks are harder than others!"
   ]
  },
  {
   "cell_type": "code",
   "execution_count": 23,
   "metadata": {
    "execution": {
     "iopub.execute_input": "2020-09-20T14:51:14.524529Z",
     "iopub.status.busy": "2020-09-20T14:51:14.523624Z",
     "iopub.status.idle": "2020-09-20T14:51:15.725179Z",
     "shell.execute_reply": "2020-09-20T14:51:15.724667Z"
    },
    "papermill": {
     "duration": 1.306663,
     "end_time": "2020-09-20T14:51:15.725317",
     "exception": false,
     "start_time": "2020-09-20T14:51:14.418654",
     "status": "completed"
    },
    "tags": []
   },
   "outputs": [
    {
     "output_type": "execute_result",
     "data": {
      "text/plain": [
       "<matplotlib.collections.PathCollection at 0x7fc112adbc50>"
      ]
     },
     "metadata": {},
     "execution_count": 23
    },
    {
     "output_type": "display_data",
     "data": {
      "text/plain": "<Figure size 432x288 with 1 Axes>",
      "image/svg+xml": "<?xml version=\"1.0\" encoding=\"utf-8\" standalone=\"no\"?>\n<!DOCTYPE svg PUBLIC \"-//W3C//DTD SVG 1.1//EN\"\n  \"http://www.w3.org/Graphics/SVG/1.1/DTD/svg11.dtd\">\n<!-- Created with matplotlib (https://matplotlib.org/) -->\n<svg height=\"248.518125pt\" version=\"1.1\" viewBox=\"0 0 372.103125 248.518125\" width=\"372.103125pt\" xmlns=\"http://www.w3.org/2000/svg\" xmlns:xlink=\"http://www.w3.org/1999/xlink\">\n <defs>\n  <style type=\"text/css\">\n*{stroke-linecap:butt;stroke-linejoin:round;}\n  </style>\n </defs>\n <g id=\"figure_1\">\n  <g id=\"patch_1\">\n   <path d=\"M 0 248.518125 \nL 372.103125 248.518125 \nL 372.103125 0 \nL 0 0 \nz\n\" style=\"fill:none;\"/>\n  </g>\n  <g id=\"axes_1\">\n   <g id=\"patch_2\">\n    <path d=\"M 30.103125 224.64 \nL 364.903125 224.64 \nL 364.903125 7.2 \nL 30.103125 7.2 \nz\n\" style=\"fill:#ffffff;\"/>\n   </g>\n   <g id=\"PathCollection_1\">\n    <defs>\n     <path d=\"M 0 3 \nC 0.795609 3 1.55874 2.683901 2.12132 2.12132 \nC 2.683901 1.55874 3 0.795609 3 0 \nC 3 -0.795609 2.683901 -1.55874 2.12132 -2.12132 \nC 1.55874 -2.683901 0.795609 -3 0 -3 \nC -0.795609 -3 -1.55874 -2.683901 -2.12132 -2.12132 \nC -2.683901 -1.55874 -3 -0.795609 -3 0 \nC -3 0.795609 -2.683901 1.55874 -2.12132 2.12132 \nC -1.55874 2.683901 -0.795609 3 0 3 \nz\n\" id=\"m51d42dd49f\" style=\"stroke:#1f77b4;\"/>\n    </defs>\n    <g clip-path=\"url(#pbe507c6d46)\">\n     <use style=\"fill:#1f77b4;stroke:#1f77b4;\" x=\"53.56478\" xlink:href=\"#m51d42dd49f\" y=\"119.654625\"/>\n     <use style=\"fill:#1f77b4;stroke:#1f77b4;\" x=\"49.452256\" xlink:href=\"#m51d42dd49f\" y=\"77.504457\"/>\n     <use style=\"fill:#1f77b4;stroke:#1f77b4;\" x=\"59.733567\" xlink:href=\"#m51d42dd49f\" y=\"107.103644\"/>\n     <use style=\"fill:#1f77b4;stroke:#1f77b4;\" x=\"115.252642\" xlink:href=\"#m51d42dd49f\" y=\"99.800675\"/>\n     <use style=\"fill:#1f77b4;stroke:#1f77b4;\" x=\"172.82798\" xlink:href=\"#m51d42dd49f\" y=\"93.451733\"/>\n     <use style=\"fill:#1f77b4;stroke:#1f77b4;\" x=\"84.408711\" xlink:href=\"#m51d42dd49f\" y=\"121.559312\"/>\n     <use style=\"fill:#1f77b4;stroke:#1f77b4;\" x=\"53.56478\" xlink:href=\"#m51d42dd49f\" y=\"109.556447\"/>\n     <use style=\"fill:#1f77b4;stroke:#1f77b4;\" x=\"86.464973\" xlink:href=\"#m51d42dd49f\" y=\"118.526846\"/>\n     <use style=\"fill:#1f77b4;stroke:#1f77b4;\" x=\"49.452256\" xlink:href=\"#m51d42dd49f\" y=\"70.463607\"/>\n     <use style=\"fill:#1f77b4;stroke:#1f77b4;\" x=\"144.040311\" xlink:href=\"#m51d42dd49f\" y=\"98.633094\"/>\n     <use style=\"fill:#1f77b4;stroke:#1f77b4;\" x=\"178.996766\" xlink:href=\"#m51d42dd49f\" y=\"87.676296\"/>\n     <use style=\"fill:#1f77b4;stroke:#1f77b4;\" x=\"80.296187\" xlink:href=\"#m51d42dd49f\" y=\"81.262293\"/>\n     <use style=\"fill:#1f77b4;stroke:#1f77b4;\" x=\"49.452256\" xlink:href=\"#m51d42dd49f\" y=\"118.659164\"/>\n     <use style=\"fill:#1f77b4;stroke:#1f77b4;\" x=\"57.677305\" xlink:href=\"#m51d42dd49f\" y=\"86.965571\"/>\n     <use style=\"fill:#1f77b4;stroke:#1f77b4;\" x=\"47.395994\" xlink:href=\"#m51d42dd49f\" y=\"25.942735\"/>\n     <use style=\"fill:#1f77b4;stroke:#1f77b4;\" x=\"45.339732\" xlink:href=\"#m51d42dd49f\" y=\"36.217822\"/>\n     <use style=\"fill:#1f77b4;stroke:#1f77b4;\" x=\"55.621042\" xlink:href=\"#m51d42dd49f\" y=\"94.390701\"/>\n     <use style=\"fill:#1f77b4;stroke:#1f77b4;\" x=\"84.408711\" xlink:href=\"#m51d42dd49f\" y=\"100.192712\"/>\n     <use style=\"fill:#1f77b4;stroke:#1f77b4;\" x=\"82.352449\" xlink:href=\"#m51d42dd49f\" y=\"95.059065\"/>\n     <use style=\"fill:#1f77b4;stroke:#1f77b4;\" x=\"57.677305\" xlink:href=\"#m51d42dd49f\" y=\"119.825088\"/>\n     <use style=\"fill:#1f77b4;stroke:#1f77b4;\" x=\"59.733567\" xlink:href=\"#m51d42dd49f\" y=\"90.204322\"/>\n     <use style=\"fill:#1f77b4;stroke:#1f77b4;\" x=\"65.902353\" xlink:href=\"#m51d42dd49f\" y=\"101.634511\"/>\n     <use style=\"fill:#1f77b4;stroke:#1f77b4;\" x=\"47.395994\" xlink:href=\"#m51d42dd49f\" y=\"51.61623\"/>\n     <use style=\"fill:#1f77b4;stroke:#1f77b4;\" x=\"55.621042\" xlink:href=\"#m51d42dd49f\" y=\"89.995205\"/>\n     <use style=\"fill:#1f77b4;stroke:#1f77b4;\" x=\"51.508518\" xlink:href=\"#m51d42dd49f\" y=\"157.591968\"/>\n     <use style=\"fill:#1f77b4;stroke:#1f77b4;\" x=\"47.395994\" xlink:href=\"#m51d42dd49f\" y=\"40.309613\"/>\n     <use style=\"fill:#1f77b4;stroke:#1f77b4;\" x=\"51.508518\" xlink:href=\"#m51d42dd49f\" y=\"97.144086\"/>\n     <use style=\"fill:#1f77b4;stroke:#1f77b4;\" x=\"51.508518\" xlink:href=\"#m51d42dd49f\" y=\"134.127954\"/>\n     <use style=\"fill:#1f77b4;stroke:#1f77b4;\" x=\"80.296187\" xlink:href=\"#m51d42dd49f\" y=\"92.528658\"/>\n     <use style=\"fill:#1f77b4;stroke:#1f77b4;\" x=\"63.846091\" xlink:href=\"#m51d42dd49f\" y=\"132.349253\"/>\n     <use style=\"fill:#1f77b4;stroke:#1f77b4;\" x=\"49.452256\" xlink:href=\"#m51d42dd49f\" y=\"96.804488\"/>\n     <use style=\"fill:#1f77b4;stroke:#1f77b4;\" x=\"74.127401\" xlink:href=\"#m51d42dd49f\" y=\"92.08462\"/>\n     <use style=\"fill:#1f77b4;stroke:#1f77b4;\" x=\"59.733567\" xlink:href=\"#m51d42dd49f\" y=\"107.565598\"/>\n     <use style=\"fill:#1f77b4;stroke:#1f77b4;\" x=\"47.395994\" xlink:href=\"#m51d42dd49f\" y=\"37.459598\"/>\n     <use style=\"fill:#1f77b4;stroke:#1f77b4;\" x=\"49.452256\" xlink:href=\"#m51d42dd49f\" y=\"24.277496\"/>\n     <use style=\"fill:#1f77b4;stroke:#1f77b4;\" x=\"78.239925\" xlink:href=\"#m51d42dd49f\" y=\"80.839942\"/>\n     <use style=\"fill:#1f77b4;stroke:#1f77b4;\" x=\"51.508518\" xlink:href=\"#m51d42dd49f\" y=\"24.04106\"/>\n     <use style=\"fill:#1f77b4;stroke:#1f77b4;\" x=\"88.521235\" xlink:href=\"#m51d42dd49f\" y=\"42.434686\"/>\n     <use style=\"fill:#1f77b4;stroke:#1f77b4;\" x=\"70.014877\" xlink:href=\"#m51d42dd49f\" y=\"101.047982\"/>\n     <use style=\"fill:#1f77b4;stroke:#1f77b4;\" x=\"65.902353\" xlink:href=\"#m51d42dd49f\" y=\"75.851003\"/>\n     <use style=\"fill:#1f77b4;stroke:#1f77b4;\" x=\"53.56478\" xlink:href=\"#m51d42dd49f\" y=\"91.220773\"/>\n     <use style=\"fill:#1f77b4;stroke:#1f77b4;\" x=\"104.971332\" xlink:href=\"#m51d42dd49f\" y=\"113.454549\"/>\n     <use style=\"fill:#1f77b4;stroke:#1f77b4;\" x=\"80.296187\" xlink:href=\"#m51d42dd49f\" y=\"74.673319\"/>\n     <use style=\"fill:#1f77b4;stroke:#1f77b4;\" x=\"96.746284\" xlink:href=\"#m51d42dd49f\" y=\"87.483477\"/>\n     <use style=\"fill:#1f77b4;stroke:#1f77b4;\" x=\"57.677305\" xlink:href=\"#m51d42dd49f\" y=\"72.126005\"/>\n     <use style=\"fill:#1f77b4;stroke:#1f77b4;\" x=\"57.677305\" xlink:href=\"#m51d42dd49f\" y=\"63.533622\"/>\n     <use style=\"fill:#1f77b4;stroke:#1f77b4;\" x=\"72.071139\" xlink:href=\"#m51d42dd49f\" y=\"135.787981\"/>\n     <use style=\"fill:#1f77b4;stroke:#1f77b4;\" x=\"55.621042\" xlink:href=\"#m51d42dd49f\" y=\"128.720767\"/>\n     <use style=\"fill:#1f77b4;stroke:#1f77b4;\" x=\"74.127401\" xlink:href=\"#m51d42dd49f\" y=\"76.312241\"/>\n     <use style=\"fill:#1f77b4;stroke:#1f77b4;\" x=\"57.677305\" xlink:href=\"#m51d42dd49f\" y=\"63.085963\"/>\n     <use style=\"fill:#1f77b4;stroke:#1f77b4;\" x=\"162.54667\" xlink:href=\"#m51d42dd49f\" y=\"107.365741\"/>\n     <use style=\"fill:#1f77b4;stroke:#1f77b4;\" x=\"59.733567\" xlink:href=\"#m51d42dd49f\" y=\"74.644081\"/>\n     <use style=\"fill:#1f77b4;stroke:#1f77b4;\" x=\"72.071139\" xlink:href=\"#m51d42dd49f\" y=\"93.62967\"/>\n     <use style=\"fill:#1f77b4;stroke:#1f77b4;\" x=\"53.56478\" xlink:href=\"#m51d42dd49f\" y=\"91.772433\"/>\n     <use style=\"fill:#1f77b4;stroke:#1f77b4;\" x=\"59.733567\" xlink:href=\"#m51d42dd49f\" y=\"111.623774\"/>\n     <use style=\"fill:#1f77b4;stroke:#1f77b4;\" x=\"53.56478\" xlink:href=\"#m51d42dd49f\" y=\"89.201138\"/>\n     <use style=\"fill:#1f77b4;stroke:#1f77b4;\" x=\"45.339732\" xlink:href=\"#m51d42dd49f\" y=\"92.271993\"/>\n     <use style=\"fill:#1f77b4;stroke:#1f77b4;\" x=\"78.239925\" xlink:href=\"#m51d42dd49f\" y=\"129.268644\"/>\n     <use style=\"fill:#1f77b4;stroke:#1f77b4;\" x=\"45.339732\" xlink:href=\"#m51d42dd49f\" y=\"184.574528\"/>\n     <use style=\"fill:#1f77b4;stroke:#1f77b4;\" x=\"189.278077\" xlink:href=\"#m51d42dd49f\" y=\"33.385491\"/>\n     <use style=\"fill:#1f77b4;stroke:#1f77b4;\" x=\"59.733567\" xlink:href=\"#m51d42dd49f\" y=\"90.3739\"/>\n     <use style=\"fill:#1f77b4;stroke:#1f77b4;\" x=\"49.452256\" xlink:href=\"#m51d42dd49f\" y=\"34.90108\"/>\n     <use style=\"fill:#1f77b4;stroke:#1f77b4;\" x=\"59.733567\" xlink:href=\"#m51d42dd49f\" y=\"108.641541\"/>\n     <use style=\"fill:#1f77b4;stroke:#1f77b4;\" x=\"65.902353\" xlink:href=\"#m51d42dd49f\" y=\"117.732713\"/>\n     <use style=\"fill:#1f77b4;stroke:#1f77b4;\" x=\"67.958615\" xlink:href=\"#m51d42dd49f\" y=\"84.93454\"/>\n     <use style=\"fill:#1f77b4;stroke:#1f77b4;\" x=\"49.452256\" xlink:href=\"#m51d42dd49f\" y=\"97.739114\"/>\n     <use style=\"fill:#1f77b4;stroke:#1f77b4;\" x=\"61.789829\" xlink:href=\"#m51d42dd49f\" y=\"39.813539\"/>\n     <use style=\"fill:#1f77b4;stroke:#1f77b4;\" x=\"220.122008\" xlink:href=\"#m51d42dd49f\" y=\"96.874944\"/>\n     <use style=\"fill:#1f77b4;stroke:#1f77b4;\" x=\"78.239925\" xlink:href=\"#m51d42dd49f\" y=\"124.049725\"/>\n     <use style=\"fill:#1f77b4;stroke:#1f77b4;\" x=\"63.846091\" xlink:href=\"#m51d42dd49f\" y=\"71.074423\"/>\n     <use style=\"fill:#1f77b4;stroke:#1f77b4;\" x=\"57.677305\" xlink:href=\"#m51d42dd49f\" y=\"125.70479\"/>\n     <use style=\"fill:#1f77b4;stroke:#1f77b4;\" x=\"45.339732\" xlink:href=\"#m51d42dd49f\" y=\"71.999068\"/>\n     <use style=\"fill:#1f77b4;stroke:#1f77b4;\" x=\"82.352449\" xlink:href=\"#m51d42dd49f\" y=\"76.002837\"/>\n     <use style=\"fill:#1f77b4;stroke:#1f77b4;\" x=\"228.347056\" xlink:href=\"#m51d42dd49f\" y=\"95.636536\"/>\n     <use style=\"fill:#1f77b4;stroke:#1f77b4;\" x=\"98.802546\" xlink:href=\"#m51d42dd49f\" y=\"114.45358\"/>\n     <use style=\"fill:#1f77b4;stroke:#1f77b4;\" x=\"218.065746\" xlink:href=\"#m51d42dd49f\" y=\"99.38095\"/>\n     <use style=\"fill:#1f77b4;stroke:#1f77b4;\" x=\"183.109291\" xlink:href=\"#m51d42dd49f\" y=\"38.424517\"/>\n     <use style=\"fill:#1f77b4;stroke:#1f77b4;\" x=\"51.508518\" xlink:href=\"#m51d42dd49f\" y=\"96.735102\"/>\n     <use style=\"fill:#1f77b4;stroke:#1f77b4;\" x=\"109.083856\" xlink:href=\"#m51d42dd49f\" y=\"103.746774\"/>\n     <use style=\"fill:#1f77b4;stroke:#1f77b4;\" x=\"61.789829\" xlink:href=\"#m51d42dd49f\" y=\"123.80662\"/>\n     <use style=\"fill:#1f77b4;stroke:#1f77b4;\" x=\"59.733567\" xlink:href=\"#m51d42dd49f\" y=\"103.296911\"/>\n     <use style=\"fill:#1f77b4;stroke:#1f77b4;\" x=\"47.395994\" xlink:href=\"#m51d42dd49f\" y=\"48.088753\"/>\n     <use style=\"fill:#1f77b4;stroke:#1f77b4;\" x=\"51.508518\" xlink:href=\"#m51d42dd49f\" y=\"145.708053\"/>\n     <use style=\"fill:#1f77b4;stroke:#1f77b4;\" x=\"55.621042\" xlink:href=\"#m51d42dd49f\" y=\"56.350961\"/>\n     <use style=\"fill:#1f77b4;stroke:#1f77b4;\" x=\"160.490408\" xlink:href=\"#m51d42dd49f\" y=\"37.138839\"/>\n     <use style=\"fill:#1f77b4;stroke:#1f77b4;\" x=\"57.677305\" xlink:href=\"#m51d42dd49f\" y=\"37.188548\"/>\n     <use style=\"fill:#1f77b4;stroke:#1f77b4;\" x=\"49.452256\" xlink:href=\"#m51d42dd49f\" y=\"46.116595\"/>\n     <use style=\"fill:#1f77b4;stroke:#1f77b4;\" x=\"45.339732\" xlink:href=\"#m51d42dd49f\" y=\"50.605059\"/>\n     <use style=\"fill:#1f77b4;stroke:#1f77b4;\" x=\"96.746284\" xlink:href=\"#m51d42dd49f\" y=\"106.786306\"/>\n     <use style=\"fill:#1f77b4;stroke:#1f77b4;\" x=\"107.027594\" xlink:href=\"#m51d42dd49f\" y=\"106.242793\"/>\n     <use style=\"fill:#1f77b4;stroke:#1f77b4;\" x=\"70.014877\" xlink:href=\"#m51d42dd49f\" y=\"88.234832\"/>\n     <use style=\"fill:#1f77b4;stroke:#1f77b4;\" x=\"158.434146\" xlink:href=\"#m51d42dd49f\" y=\"28.328907\"/>\n     <use style=\"fill:#1f77b4;stroke:#1f77b4;\" x=\"47.395994\" xlink:href=\"#m51d42dd49f\" y=\"142.863432\"/>\n     <use style=\"fill:#1f77b4;stroke:#1f77b4;\" x=\"72.071139\" xlink:href=\"#m51d42dd49f\" y=\"93.689892\"/>\n     <use style=\"fill:#1f77b4;stroke:#1f77b4;\" x=\"183.109291\" xlink:href=\"#m51d42dd49f\" y=\"110.547309\"/>\n     <use style=\"fill:#1f77b4;stroke:#1f77b4;\" x=\"55.621042\" xlink:href=\"#m51d42dd49f\" y=\"111.988269\"/>\n     <use style=\"fill:#1f77b4;stroke:#1f77b4;\" x=\"65.902353\" xlink:href=\"#m51d42dd49f\" y=\"75.012687\"/>\n     <use style=\"fill:#1f77b4;stroke:#1f77b4;\" x=\"76.183663\" xlink:href=\"#m51d42dd49f\" y=\"100.568473\"/>\n     <use style=\"fill:#1f77b4;stroke:#1f77b4;\" x=\"92.63376\" xlink:href=\"#m51d42dd49f\" y=\"40.821931\"/>\n     <use style=\"fill:#1f77b4;stroke:#1f77b4;\" x=\"63.846091\" xlink:href=\"#m51d42dd49f\" y=\"95.307301\"/>\n     <use style=\"fill:#1f77b4;stroke:#1f77b4;\" x=\"135.815263\" xlink:href=\"#m51d42dd49f\" y=\"89.215594\"/>\n     <use style=\"fill:#1f77b4;stroke:#1f77b4;\" x=\"61.789829\" xlink:href=\"#m51d42dd49f\" y=\"62.439058\"/>\n     <use style=\"fill:#1f77b4;stroke:#1f77b4;\" x=\"57.677305\" xlink:href=\"#m51d42dd49f\" y=\"45.827701\"/>\n     <use style=\"fill:#1f77b4;stroke:#1f77b4;\" x=\"88.521235\" xlink:href=\"#m51d42dd49f\" y=\"97.78439\"/>\n     <use style=\"fill:#1f77b4;stroke:#1f77b4;\" x=\"148.152835\" xlink:href=\"#m51d42dd49f\" y=\"33.933053\"/>\n     <use style=\"fill:#1f77b4;stroke:#1f77b4;\" x=\"90.577498\" xlink:href=\"#m51d42dd49f\" y=\"44.845468\"/>\n     <use style=\"fill:#1f77b4;stroke:#1f77b4;\" x=\"53.56478\" xlink:href=\"#m51d42dd49f\" y=\"68.94868\"/>\n     <use style=\"fill:#1f77b4;stroke:#1f77b4;\" x=\"63.846091\" xlink:href=\"#m51d42dd49f\" y=\"60.563213\"/>\n     <use style=\"fill:#1f77b4;stroke:#1f77b4;\" x=\"47.395994\" xlink:href=\"#m51d42dd49f\" y=\"119.175602\"/>\n     <use style=\"fill:#1f77b4;stroke:#1f77b4;\" x=\"84.408711\" xlink:href=\"#m51d42dd49f\" y=\"83.393949\"/>\n     <use style=\"fill:#1f77b4;stroke:#1f77b4;\" x=\"59.733567\" xlink:href=\"#m51d42dd49f\" y=\"131.230496\"/>\n     <use style=\"fill:#1f77b4;stroke:#1f77b4;\" x=\"61.789829\" xlink:href=\"#m51d42dd49f\" y=\"59.558879\"/>\n     <use style=\"fill:#1f77b4;stroke:#1f77b4;\" x=\"63.846091\" xlink:href=\"#m51d42dd49f\" y=\"91.544606\"/>\n     <use style=\"fill:#1f77b4;stroke:#1f77b4;\" x=\"86.464973\" xlink:href=\"#m51d42dd49f\" y=\"41.895556\"/>\n     <use style=\"fill:#1f77b4;stroke:#1f77b4;\" x=\"156.377884\" xlink:href=\"#m51d42dd49f\" y=\"42.576334\"/>\n     <use style=\"fill:#1f77b4;stroke:#1f77b4;\" x=\"47.395994\" xlink:href=\"#m51d42dd49f\" y=\"128.169502\"/>\n     <use style=\"fill:#1f77b4;stroke:#1f77b4;\" x=\"47.395994\" xlink:href=\"#m51d42dd49f\" y=\"141.742114\"/>\n     <use style=\"fill:#1f77b4;stroke:#1f77b4;\" x=\"70.014877\" xlink:href=\"#m51d42dd49f\" y=\"109.650119\"/>\n     <use style=\"fill:#1f77b4;stroke:#1f77b4;\" x=\"45.339732\" xlink:href=\"#m51d42dd49f\" y=\"211.667378\"/>\n     <use style=\"fill:#1f77b4;stroke:#1f77b4;\" x=\"65.902353\" xlink:href=\"#m51d42dd49f\" y=\"98.69828\"/>\n     <use style=\"fill:#1f77b4;stroke:#1f77b4;\" x=\"47.395994\" xlink:href=\"#m51d42dd49f\" y=\"69.113454\"/>\n     <use style=\"fill:#1f77b4;stroke:#1f77b4;\" x=\"53.56478\" xlink:href=\"#m51d42dd49f\" y=\"47.677055\"/>\n     <use style=\"fill:#1f77b4;stroke:#1f77b4;\" x=\"61.789829\" xlink:href=\"#m51d42dd49f\" y=\"72.275336\"/>\n     <use style=\"fill:#1f77b4;stroke:#1f77b4;\" x=\"78.239925\" xlink:href=\"#m51d42dd49f\" y=\"106.449313\"/>\n     <use style=\"fill:#1f77b4;stroke:#1f77b4;\" x=\"51.508518\" xlink:href=\"#m51d42dd49f\" y=\"107.941272\"/>\n     <use style=\"fill:#1f77b4;stroke:#1f77b4;\" x=\"49.452256\" xlink:href=\"#m51d42dd49f\" y=\"129.329479\"/>\n     <use style=\"fill:#1f77b4;stroke:#1f77b4;\" x=\"86.464973\" xlink:href=\"#m51d42dd49f\" y=\"103.145639\"/>\n     <use style=\"fill:#1f77b4;stroke:#1f77b4;\" x=\"57.677305\" xlink:href=\"#m51d42dd49f\" y=\"70.355413\"/>\n     <use style=\"fill:#1f77b4;stroke:#1f77b4;\" x=\"107.027594\" xlink:href=\"#m51d42dd49f\" y=\"46.890862\"/>\n     <use style=\"fill:#1f77b4;stroke:#1f77b4;\" x=\"59.733567\" xlink:href=\"#m51d42dd49f\" y=\"104.729552\"/>\n     <use style=\"fill:#1f77b4;stroke:#1f77b4;\" x=\"55.621042\" xlink:href=\"#m51d42dd49f\" y=\"113.983388\"/>\n     <use style=\"fill:#1f77b4;stroke:#1f77b4;\" x=\"349.666518\" xlink:href=\"#m51d42dd49f\" y=\"32.611328\"/>\n     <use style=\"fill:#1f77b4;stroke:#1f77b4;\" x=\"47.395994\" xlink:href=\"#m51d42dd49f\" y=\"81.938521\"/>\n     <use style=\"fill:#1f77b4;stroke:#1f77b4;\" x=\"49.452256\" xlink:href=\"#m51d42dd49f\" y=\"143.894071\"/>\n     <use style=\"fill:#1f77b4;stroke:#1f77b4;\" x=\"51.508518\" xlink:href=\"#m51d42dd49f\" y=\"78.66968\"/>\n     <use style=\"fill:#1f77b4;stroke:#1f77b4;\" x=\"59.733567\" xlink:href=\"#m51d42dd49f\" y=\"155.462603\"/>\n     <use style=\"fill:#1f77b4;stroke:#1f77b4;\" x=\"55.621042\" xlink:href=\"#m51d42dd49f\" y=\"92.902155\"/>\n     <use style=\"fill:#1f77b4;stroke:#1f77b4;\" x=\"65.902353\" xlink:href=\"#m51d42dd49f\" y=\"95.740773\"/>\n     <use style=\"fill:#1f77b4;stroke:#1f77b4;\" x=\"78.239925\" xlink:href=\"#m51d42dd49f\" y=\"105.318961\"/>\n     <use style=\"fill:#1f77b4;stroke:#1f77b4;\" x=\"59.733567\" xlink:href=\"#m51d42dd49f\" y=\"113.360486\"/>\n     <use style=\"fill:#1f77b4;stroke:#1f77b4;\" x=\"63.846091\" xlink:href=\"#m51d42dd49f\" y=\"43.682566\"/>\n     <use style=\"fill:#1f77b4;stroke:#1f77b4;\" x=\"57.677305\" xlink:href=\"#m51d42dd49f\" y=\"110.050083\"/>\n     <use style=\"fill:#1f77b4;stroke:#1f77b4;\" x=\"74.127401\" xlink:href=\"#m51d42dd49f\" y=\"96.110481\"/>\n     <use style=\"fill:#1f77b4;stroke:#1f77b4;\" x=\"166.659194\" xlink:href=\"#m51d42dd49f\" y=\"42.090131\"/>\n     <use style=\"fill:#1f77b4;stroke:#1f77b4;\" x=\"53.56478\" xlink:href=\"#m51d42dd49f\" y=\"100.206282\"/>\n     <use style=\"fill:#1f77b4;stroke:#1f77b4;\" x=\"121.421429\" xlink:href=\"#m51d42dd49f\" y=\"120.670755\"/>\n     <use style=\"fill:#1f77b4;stroke:#1f77b4;\" x=\"57.677305\" xlink:href=\"#m51d42dd49f\" y=\"105.072381\"/>\n     <use style=\"fill:#1f77b4;stroke:#1f77b4;\" x=\"104.971332\" xlink:href=\"#m51d42dd49f\" y=\"69.920441\"/>\n     <use style=\"fill:#1f77b4;stroke:#1f77b4;\" x=\"55.621042\" xlink:href=\"#m51d42dd49f\" y=\"115.043294\"/>\n     <use style=\"fill:#1f77b4;stroke:#1f77b4;\" x=\"70.014877\" xlink:href=\"#m51d42dd49f\" y=\"114.210548\"/>\n     <use style=\"fill:#1f77b4;stroke:#1f77b4;\" x=\"90.577498\" xlink:href=\"#m51d42dd49f\" y=\"97.542681\"/>\n     <use style=\"fill:#1f77b4;stroke:#1f77b4;\" x=\"94.690022\" xlink:href=\"#m51d42dd49f\" y=\"78.051147\"/>\n     <use style=\"fill:#1f77b4;stroke:#1f77b4;\" x=\"47.395994\" xlink:href=\"#m51d42dd49f\" y=\"20.172622\"/>\n     <use style=\"fill:#1f77b4;stroke:#1f77b4;\" x=\"80.296187\" xlink:href=\"#m51d42dd49f\" y=\"110.446501\"/>\n     <use style=\"fill:#1f77b4;stroke:#1f77b4;\" x=\"49.452256\" xlink:href=\"#m51d42dd49f\" y=\"51.521849\"/>\n     <use style=\"fill:#1f77b4;stroke:#1f77b4;\" x=\"57.677305\" xlink:href=\"#m51d42dd49f\" y=\"106.221595\"/>\n     <use style=\"fill:#1f77b4;stroke:#1f77b4;\" x=\"76.183663\" xlink:href=\"#m51d42dd49f\" y=\"105.526683\"/>\n     <use style=\"fill:#1f77b4;stroke:#1f77b4;\" x=\"304.428752\" xlink:href=\"#m51d42dd49f\" y=\"20.744087\"/>\n     <use style=\"fill:#1f77b4;stroke:#1f77b4;\" x=\"47.395994\" xlink:href=\"#m51d42dd49f\" y=\"129.454345\"/>\n     <use style=\"fill:#1f77b4;stroke:#1f77b4;\" x=\"45.339732\" xlink:href=\"#m51d42dd49f\" y=\"170.327426\"/>\n     <use style=\"fill:#1f77b4;stroke:#1f77b4;\" x=\"80.296187\" xlink:href=\"#m51d42dd49f\" y=\"97.773794\"/>\n     <use style=\"fill:#1f77b4;stroke:#1f77b4;\" x=\"45.339732\" xlink:href=\"#m51d42dd49f\" y=\"101.988049\"/>\n     <use style=\"fill:#1f77b4;stroke:#1f77b4;\" x=\"74.127401\" xlink:href=\"#m51d42dd49f\" y=\"96.597707\"/>\n     <use style=\"fill:#1f77b4;stroke:#1f77b4;\" x=\"123.477691\" xlink:href=\"#m51d42dd49f\" y=\"25.954415\"/>\n     <use style=\"fill:#1f77b4;stroke:#1f77b4;\" x=\"49.452256\" xlink:href=\"#m51d42dd49f\" y=\"85.44878\"/>\n     <use style=\"fill:#1f77b4;stroke:#1f77b4;\" x=\"78.239925\" xlink:href=\"#m51d42dd49f\" y=\"85.231774\"/>\n     <use style=\"fill:#1f77b4;stroke:#1f77b4;\" x=\"45.339732\" xlink:href=\"#m51d42dd49f\" y=\"140.665427\"/>\n     <use style=\"fill:#1f77b4;stroke:#1f77b4;\" x=\"61.789829\" xlink:href=\"#m51d42dd49f\" y=\"102.007722\"/>\n     <use style=\"fill:#1f77b4;stroke:#1f77b4;\" x=\"57.677305\" xlink:href=\"#m51d42dd49f\" y=\"86.030164\"/>\n     <use style=\"fill:#1f77b4;stroke:#1f77b4;\" x=\"53.56478\" xlink:href=\"#m51d42dd49f\" y=\"62.637319\"/>\n     <use style=\"fill:#1f77b4;stroke:#1f77b4;\" x=\"144.040311\" xlink:href=\"#m51d42dd49f\" y=\"105.287049\"/>\n     <use style=\"fill:#1f77b4;stroke:#1f77b4;\" x=\"172.82798\" xlink:href=\"#m51d42dd49f\" y=\"98.275773\"/>\n     <use style=\"fill:#1f77b4;stroke:#1f77b4;\" x=\"65.902353\" xlink:href=\"#m51d42dd49f\" y=\"116.839078\"/>\n     <use style=\"fill:#1f77b4;stroke:#1f77b4;\" x=\"57.677305\" xlink:href=\"#m51d42dd49f\" y=\"91.128133\"/>\n     <use style=\"fill:#1f77b4;stroke:#1f77b4;\" x=\"63.846091\" xlink:href=\"#m51d42dd49f\" y=\"115.805564\"/>\n     <use style=\"fill:#1f77b4;stroke:#1f77b4;\" x=\"49.452256\" xlink:href=\"#m51d42dd49f\" y=\"48.764702\"/>\n     <use style=\"fill:#1f77b4;stroke:#1f77b4;\" x=\"162.54667\" xlink:href=\"#m51d42dd49f\" y=\"110.84038\"/>\n     <use style=\"fill:#1f77b4;stroke:#1f77b4;\" x=\"49.452256\" xlink:href=\"#m51d42dd49f\" y=\"153.131293\"/>\n     <use style=\"fill:#1f77b4;stroke:#1f77b4;\" x=\"74.127401\" xlink:href=\"#m51d42dd49f\" y=\"65.171632\"/>\n     <use style=\"fill:#1f77b4;stroke:#1f77b4;\" x=\"61.789829\" xlink:href=\"#m51d42dd49f\" y=\"99.169135\"/>\n     <use style=\"fill:#1f77b4;stroke:#1f77b4;\" x=\"57.677305\" xlink:href=\"#m51d42dd49f\" y=\"22.696418\"/>\n     <use style=\"fill:#1f77b4;stroke:#1f77b4;\" x=\"55.621042\" xlink:href=\"#m51d42dd49f\" y=\"135.158141\"/>\n     <use style=\"fill:#1f77b4;stroke:#1f77b4;\" x=\"63.846091\" xlink:href=\"#m51d42dd49f\" y=\"97.974883\"/>\n     <use style=\"fill:#1f77b4;stroke:#1f77b4;\" x=\"53.56478\" xlink:href=\"#m51d42dd49f\" y=\"69.855646\"/>\n     <use style=\"fill:#1f77b4;stroke:#1f77b4;\" x=\"45.339732\" xlink:href=\"#m51d42dd49f\" y=\"45.233201\"/>\n     <use style=\"fill:#1f77b4;stroke:#1f77b4;\" x=\"57.677305\" xlink:href=\"#m51d42dd49f\" y=\"98.310724\"/>\n     <use style=\"fill:#1f77b4;stroke:#1f77b4;\" x=\"96.746284\" xlink:href=\"#m51d42dd49f\" y=\"41.991433\"/>\n     <use style=\"fill:#1f77b4;stroke:#1f77b4;\" x=\"53.56478\" xlink:href=\"#m51d42dd49f\" y=\"134.558788\"/>\n     <use style=\"fill:#1f77b4;stroke:#1f77b4;\" x=\"47.395994\" xlink:href=\"#m51d42dd49f\" y=\"133.449038\"/>\n     <use style=\"fill:#1f77b4;stroke:#1f77b4;\" x=\"61.789829\" xlink:href=\"#m51d42dd49f\" y=\"123.791023\"/>\n     <use style=\"fill:#1f77b4;stroke:#1f77b4;\" x=\"53.56478\" xlink:href=\"#m51d42dd49f\" y=\"144.759819\"/>\n     <use style=\"fill:#1f77b4;stroke:#1f77b4;\" x=\"172.82798\" xlink:href=\"#m51d42dd49f\" y=\"33.623718\"/>\n     <use style=\"fill:#1f77b4;stroke:#1f77b4;\" x=\"72.071139\" xlink:href=\"#m51d42dd49f\" y=\"72.74958\"/>\n     <use style=\"fill:#1f77b4;stroke:#1f77b4;\" x=\"45.339732\" xlink:href=\"#m51d42dd49f\" y=\"111.283699\"/>\n     <use style=\"fill:#1f77b4;stroke:#1f77b4;\" x=\"100.858808\" xlink:href=\"#m51d42dd49f\" y=\"53.35776\"/>\n     <use style=\"fill:#1f77b4;stroke:#1f77b4;\" x=\"59.733567\" xlink:href=\"#m51d42dd49f\" y=\"111.500976\"/>\n     <use style=\"fill:#1f77b4;stroke:#1f77b4;\" x=\"59.733567\" xlink:href=\"#m51d42dd49f\" y=\"38.20236\"/>\n     <use style=\"fill:#1f77b4;stroke:#1f77b4;\" x=\"61.789829\" xlink:href=\"#m51d42dd49f\" y=\"105.142646\"/>\n    </g>\n   </g>\n   <g id=\"matplotlib.axis_1\">\n    <g id=\"xtick_1\">\n     <g id=\"line2d_1\">\n      <defs>\n       <path d=\"M 0 0 \nL 0 3.5 \n\" id=\"mb5c7eef34b\" style=\"stroke:#000000;stroke-width:0.8;\"/>\n      </defs>\n      <g>\n       <use style=\"stroke:#000000;stroke-width:0.8;\" x=\"43.28347\" xlink:href=\"#mb5c7eef34b\" y=\"224.64\"/>\n      </g>\n     </g>\n     <g id=\"text_1\">\n      <!-- 0 -->\n      <defs>\n       <path d=\"M 31.78125 66.40625 \nQ 24.171875 66.40625 20.328125 58.90625 \nQ 16.5 51.421875 16.5 36.375 \nQ 16.5 21.390625 20.328125 13.890625 \nQ 24.171875 6.390625 31.78125 6.390625 \nQ 39.453125 6.390625 43.28125 13.890625 \nQ 47.125 21.390625 47.125 36.375 \nQ 47.125 51.421875 43.28125 58.90625 \nQ 39.453125 66.40625 31.78125 66.40625 \nz\nM 31.78125 74.21875 \nQ 44.046875 74.21875 50.515625 64.515625 \nQ 56.984375 54.828125 56.984375 36.375 \nQ 56.984375 17.96875 50.515625 8.265625 \nQ 44.046875 -1.421875 31.78125 -1.421875 \nQ 19.53125 -1.421875 13.0625 8.265625 \nQ 6.59375 17.96875 6.59375 36.375 \nQ 6.59375 54.828125 13.0625 64.515625 \nQ 19.53125 74.21875 31.78125 74.21875 \nz\n\" id=\"DejaVuSans-48\"/>\n      </defs>\n      <g transform=\"translate(40.10222 239.238438)scale(0.1 -0.1)\">\n       <use xlink:href=\"#DejaVuSans-48\"/>\n      </g>\n     </g>\n    </g>\n    <g id=\"xtick_2\">\n     <g id=\"line2d_2\">\n      <g>\n       <use style=\"stroke:#000000;stroke-width:0.8;\" x=\"84.408711\" xlink:href=\"#mb5c7eef34b\" y=\"224.64\"/>\n      </g>\n     </g>\n     <g id=\"text_2\">\n      <!-- 20 -->\n      <defs>\n       <path d=\"M 19.1875 8.296875 \nL 53.609375 8.296875 \nL 53.609375 0 \nL 7.328125 0 \nL 7.328125 8.296875 \nQ 12.9375 14.109375 22.625 23.890625 \nQ 32.328125 33.6875 34.8125 36.53125 \nQ 39.546875 41.84375 41.421875 45.53125 \nQ 43.3125 49.21875 43.3125 52.78125 \nQ 43.3125 58.59375 39.234375 62.25 \nQ 35.15625 65.921875 28.609375 65.921875 \nQ 23.96875 65.921875 18.8125 64.3125 \nQ 13.671875 62.703125 7.8125 59.421875 \nL 7.8125 69.390625 \nQ 13.765625 71.78125 18.9375 73 \nQ 24.125 74.21875 28.421875 74.21875 \nQ 39.75 74.21875 46.484375 68.546875 \nQ 53.21875 62.890625 53.21875 53.421875 \nQ 53.21875 48.921875 51.53125 44.890625 \nQ 49.859375 40.875 45.40625 35.40625 \nQ 44.1875 33.984375 37.640625 27.21875 \nQ 31.109375 20.453125 19.1875 8.296875 \nz\n\" id=\"DejaVuSans-50\"/>\n      </defs>\n      <g transform=\"translate(78.046211 239.238438)scale(0.1 -0.1)\">\n       <use xlink:href=\"#DejaVuSans-50\"/>\n       <use x=\"63.623047\" xlink:href=\"#DejaVuSans-48\"/>\n      </g>\n     </g>\n    </g>\n    <g id=\"xtick_3\">\n     <g id=\"line2d_3\">\n      <g>\n       <use style=\"stroke:#000000;stroke-width:0.8;\" x=\"125.533953\" xlink:href=\"#mb5c7eef34b\" y=\"224.64\"/>\n      </g>\n     </g>\n     <g id=\"text_3\">\n      <!-- 40 -->\n      <defs>\n       <path d=\"M 37.796875 64.3125 \nL 12.890625 25.390625 \nL 37.796875 25.390625 \nz\nM 35.203125 72.90625 \nL 47.609375 72.90625 \nL 47.609375 25.390625 \nL 58.015625 25.390625 \nL 58.015625 17.1875 \nL 47.609375 17.1875 \nL 47.609375 0 \nL 37.796875 0 \nL 37.796875 17.1875 \nL 4.890625 17.1875 \nL 4.890625 26.703125 \nz\n\" id=\"DejaVuSans-52\"/>\n      </defs>\n      <g transform=\"translate(119.171453 239.238438)scale(0.1 -0.1)\">\n       <use xlink:href=\"#DejaVuSans-52\"/>\n       <use x=\"63.623047\" xlink:href=\"#DejaVuSans-48\"/>\n      </g>\n     </g>\n    </g>\n    <g id=\"xtick_4\">\n     <g id=\"line2d_4\">\n      <g>\n       <use style=\"stroke:#000000;stroke-width:0.8;\" x=\"166.659194\" xlink:href=\"#mb5c7eef34b\" y=\"224.64\"/>\n      </g>\n     </g>\n     <g id=\"text_4\">\n      <!-- 60 -->\n      <defs>\n       <path d=\"M 33.015625 40.375 \nQ 26.375 40.375 22.484375 35.828125 \nQ 18.609375 31.296875 18.609375 23.390625 \nQ 18.609375 15.53125 22.484375 10.953125 \nQ 26.375 6.390625 33.015625 6.390625 \nQ 39.65625 6.390625 43.53125 10.953125 \nQ 47.40625 15.53125 47.40625 23.390625 \nQ 47.40625 31.296875 43.53125 35.828125 \nQ 39.65625 40.375 33.015625 40.375 \nz\nM 52.59375 71.296875 \nL 52.59375 62.3125 \nQ 48.875 64.0625 45.09375 64.984375 \nQ 41.3125 65.921875 37.59375 65.921875 \nQ 27.828125 65.921875 22.671875 59.328125 \nQ 17.53125 52.734375 16.796875 39.40625 \nQ 19.671875 43.65625 24.015625 45.921875 \nQ 28.375 48.1875 33.59375 48.1875 \nQ 44.578125 48.1875 50.953125 41.515625 \nQ 57.328125 34.859375 57.328125 23.390625 \nQ 57.328125 12.15625 50.6875 5.359375 \nQ 44.046875 -1.421875 33.015625 -1.421875 \nQ 20.359375 -1.421875 13.671875 8.265625 \nQ 6.984375 17.96875 6.984375 36.375 \nQ 6.984375 53.65625 15.1875 63.9375 \nQ 23.390625 74.21875 37.203125 74.21875 \nQ 40.921875 74.21875 44.703125 73.484375 \nQ 48.484375 72.75 52.59375 71.296875 \nz\n\" id=\"DejaVuSans-54\"/>\n      </defs>\n      <g transform=\"translate(160.296694 239.238438)scale(0.1 -0.1)\">\n       <use xlink:href=\"#DejaVuSans-54\"/>\n       <use x=\"63.623047\" xlink:href=\"#DejaVuSans-48\"/>\n      </g>\n     </g>\n    </g>\n    <g id=\"xtick_5\">\n     <g id=\"line2d_5\">\n      <g>\n       <use style=\"stroke:#000000;stroke-width:0.8;\" x=\"207.784435\" xlink:href=\"#mb5c7eef34b\" y=\"224.64\"/>\n      </g>\n     </g>\n     <g id=\"text_5\">\n      <!-- 80 -->\n      <defs>\n       <path d=\"M 31.78125 34.625 \nQ 24.75 34.625 20.71875 30.859375 \nQ 16.703125 27.09375 16.703125 20.515625 \nQ 16.703125 13.921875 20.71875 10.15625 \nQ 24.75 6.390625 31.78125 6.390625 \nQ 38.8125 6.390625 42.859375 10.171875 \nQ 46.921875 13.96875 46.921875 20.515625 \nQ 46.921875 27.09375 42.890625 30.859375 \nQ 38.875 34.625 31.78125 34.625 \nz\nM 21.921875 38.8125 \nQ 15.578125 40.375 12.03125 44.71875 \nQ 8.5 49.078125 8.5 55.328125 \nQ 8.5 64.0625 14.71875 69.140625 \nQ 20.953125 74.21875 31.78125 74.21875 \nQ 42.671875 74.21875 48.875 69.140625 \nQ 55.078125 64.0625 55.078125 55.328125 \nQ 55.078125 49.078125 51.53125 44.71875 \nQ 48 40.375 41.703125 38.8125 \nQ 48.828125 37.15625 52.796875 32.3125 \nQ 56.78125 27.484375 56.78125 20.515625 \nQ 56.78125 9.90625 50.3125 4.234375 \nQ 43.84375 -1.421875 31.78125 -1.421875 \nQ 19.734375 -1.421875 13.25 4.234375 \nQ 6.78125 9.90625 6.78125 20.515625 \nQ 6.78125 27.484375 10.78125 32.3125 \nQ 14.796875 37.15625 21.921875 38.8125 \nz\nM 18.3125 54.390625 \nQ 18.3125 48.734375 21.84375 45.5625 \nQ 25.390625 42.390625 31.78125 42.390625 \nQ 38.140625 42.390625 41.71875 45.5625 \nQ 45.3125 48.734375 45.3125 54.390625 \nQ 45.3125 60.0625 41.71875 63.234375 \nQ 38.140625 66.40625 31.78125 66.40625 \nQ 25.390625 66.40625 21.84375 63.234375 \nQ 18.3125 60.0625 18.3125 54.390625 \nz\n\" id=\"DejaVuSans-56\"/>\n      </defs>\n      <g transform=\"translate(201.421935 239.238438)scale(0.1 -0.1)\">\n       <use xlink:href=\"#DejaVuSans-56\"/>\n       <use x=\"63.623047\" xlink:href=\"#DejaVuSans-48\"/>\n      </g>\n     </g>\n    </g>\n    <g id=\"xtick_6\">\n     <g id=\"line2d_6\">\n      <g>\n       <use style=\"stroke:#000000;stroke-width:0.8;\" x=\"248.909677\" xlink:href=\"#mb5c7eef34b\" y=\"224.64\"/>\n      </g>\n     </g>\n     <g id=\"text_6\">\n      <!-- 100 -->\n      <defs>\n       <path d=\"M 12.40625 8.296875 \nL 28.515625 8.296875 \nL 28.515625 63.921875 \nL 10.984375 60.40625 \nL 10.984375 69.390625 \nL 28.421875 72.90625 \nL 38.28125 72.90625 \nL 38.28125 8.296875 \nL 54.390625 8.296875 \nL 54.390625 0 \nL 12.40625 0 \nz\n\" id=\"DejaVuSans-49\"/>\n      </defs>\n      <g transform=\"translate(239.365927 239.238438)scale(0.1 -0.1)\">\n       <use xlink:href=\"#DejaVuSans-49\"/>\n       <use x=\"63.623047\" xlink:href=\"#DejaVuSans-48\"/>\n       <use x=\"127.246094\" xlink:href=\"#DejaVuSans-48\"/>\n      </g>\n     </g>\n    </g>\n    <g id=\"xtick_7\">\n     <g id=\"line2d_7\">\n      <g>\n       <use style=\"stroke:#000000;stroke-width:0.8;\" x=\"290.034918\" xlink:href=\"#mb5c7eef34b\" y=\"224.64\"/>\n      </g>\n     </g>\n     <g id=\"text_7\">\n      <!-- 120 -->\n      <g transform=\"translate(280.491168 239.238438)scale(0.1 -0.1)\">\n       <use xlink:href=\"#DejaVuSans-49\"/>\n       <use x=\"63.623047\" xlink:href=\"#DejaVuSans-50\"/>\n       <use x=\"127.246094\" xlink:href=\"#DejaVuSans-48\"/>\n      </g>\n     </g>\n    </g>\n    <g id=\"xtick_8\">\n     <g id=\"line2d_8\">\n      <g>\n       <use style=\"stroke:#000000;stroke-width:0.8;\" x=\"331.160159\" xlink:href=\"#mb5c7eef34b\" y=\"224.64\"/>\n      </g>\n     </g>\n     <g id=\"text_8\">\n      <!-- 140 -->\n      <g transform=\"translate(321.616409 239.238438)scale(0.1 -0.1)\">\n       <use xlink:href=\"#DejaVuSans-49\"/>\n       <use x=\"63.623047\" xlink:href=\"#DejaVuSans-52\"/>\n       <use x=\"127.246094\" xlink:href=\"#DejaVuSans-48\"/>\n      </g>\n     </g>\n    </g>\n   </g>\n   <g id=\"matplotlib.axis_2\">\n    <g id=\"ytick_1\">\n     <g id=\"line2d_9\">\n      <defs>\n       <path d=\"M 0 0 \nL -3.5 0 \n\" id=\"me762529741\" style=\"stroke:#000000;stroke-width:0.8;\"/>\n      </defs>\n      <g>\n       <use style=\"stroke:#000000;stroke-width:0.8;\" x=\"30.103125\" xlink:href=\"#me762529741\" y=\"197.812655\"/>\n      </g>\n     </g>\n     <g id=\"text_9\">\n      <!-- 0.2 -->\n      <defs>\n       <path d=\"M 10.6875 12.40625 \nL 21 12.40625 \nL 21 0 \nL 10.6875 0 \nz\n\" id=\"DejaVuSans-46\"/>\n      </defs>\n      <g transform=\"translate(7.2 201.611874)scale(0.1 -0.1)\">\n       <use xlink:href=\"#DejaVuSans-48\"/>\n       <use x=\"63.623047\" xlink:href=\"#DejaVuSans-46\"/>\n       <use x=\"95.410156\" xlink:href=\"#DejaVuSans-50\"/>\n      </g>\n     </g>\n    </g>\n    <g id=\"ytick_2\">\n     <g id=\"line2d_10\">\n      <g>\n       <use style=\"stroke:#000000;stroke-width:0.8;\" x=\"30.103125\" xlink:href=\"#me762529741\" y=\"153.034715\"/>\n      </g>\n     </g>\n     <g id=\"text_10\">\n      <!-- 0.4 -->\n      <g transform=\"translate(7.2 156.833933)scale(0.1 -0.1)\">\n       <use xlink:href=\"#DejaVuSans-48\"/>\n       <use x=\"63.623047\" xlink:href=\"#DejaVuSans-46\"/>\n       <use x=\"95.410156\" xlink:href=\"#DejaVuSans-52\"/>\n      </g>\n     </g>\n    </g>\n    <g id=\"ytick_3\">\n     <g id=\"line2d_11\">\n      <g>\n       <use style=\"stroke:#000000;stroke-width:0.8;\" x=\"30.103125\" xlink:href=\"#me762529741\" y=\"108.256774\"/>\n      </g>\n     </g>\n     <g id=\"text_11\">\n      <!-- 0.6 -->\n      <g transform=\"translate(7.2 112.055993)scale(0.1 -0.1)\">\n       <use xlink:href=\"#DejaVuSans-48\"/>\n       <use x=\"63.623047\" xlink:href=\"#DejaVuSans-46\"/>\n       <use x=\"95.410156\" xlink:href=\"#DejaVuSans-54\"/>\n      </g>\n     </g>\n    </g>\n    <g id=\"ytick_4\">\n     <g id=\"line2d_12\">\n      <g>\n       <use style=\"stroke:#000000;stroke-width:0.8;\" x=\"30.103125\" xlink:href=\"#me762529741\" y=\"63.478834\"/>\n      </g>\n     </g>\n     <g id=\"text_12\">\n      <!-- 0.8 -->\n      <g transform=\"translate(7.2 67.278052)scale(0.1 -0.1)\">\n       <use xlink:href=\"#DejaVuSans-48\"/>\n       <use x=\"63.623047\" xlink:href=\"#DejaVuSans-46\"/>\n       <use x=\"95.410156\" xlink:href=\"#DejaVuSans-56\"/>\n      </g>\n     </g>\n    </g>\n    <g id=\"ytick_5\">\n     <g id=\"line2d_13\">\n      <g>\n       <use style=\"stroke:#000000;stroke-width:0.8;\" x=\"30.103125\" xlink:href=\"#me762529741\" y=\"18.700893\"/>\n      </g>\n     </g>\n     <g id=\"text_13\">\n      <!-- 1.0 -->\n      <g transform=\"translate(7.2 22.500112)scale(0.1 -0.1)\">\n       <use xlink:href=\"#DejaVuSans-49\"/>\n       <use x=\"63.623047\" xlink:href=\"#DejaVuSans-46\"/>\n       <use x=\"95.410156\" xlink:href=\"#DejaVuSans-48\"/>\n      </g>\n     </g>\n    </g>\n   </g>\n   <g id=\"patch_3\">\n    <path d=\"M 30.103125 224.64 \nL 30.103125 7.2 \n\" style=\"fill:none;stroke:#000000;stroke-linecap:square;stroke-linejoin:miter;stroke-width:0.8;\"/>\n   </g>\n   <g id=\"patch_4\">\n    <path d=\"M 364.903125 224.64 \nL 364.903125 7.2 \n\" style=\"fill:none;stroke:#000000;stroke-linecap:square;stroke-linejoin:miter;stroke-width:0.8;\"/>\n   </g>\n   <g id=\"patch_5\">\n    <path d=\"M 30.103125 224.64 \nL 364.903125 224.64 \n\" style=\"fill:none;stroke:#000000;stroke-linecap:square;stroke-linejoin:miter;stroke-width:0.8;\"/>\n   </g>\n   <g id=\"patch_6\">\n    <path d=\"M 30.103125 7.2 \nL 364.903125 7.2 \n\" style=\"fill:none;stroke:#000000;stroke-linecap:square;stroke-linejoin:miter;stroke-width:0.8;\"/>\n   </g>\n  </g>\n </g>\n <defs>\n  <clipPath id=\"pbe507c6d46\">\n   <rect height=\"217.44\" width=\"334.8\" x=\"30.103125\" y=\"7.2\"/>\n  </clipPath>\n </defs>\n</svg>\n",
      "image/png": "[encoded data removed]"
     },
     "metadata": {
      "needs_background": "light"
     }
    }
   ],
   "source": [
    "preds_valid = clf.predict_proba(X_valid) # This is a list of results for each task\n",
    "\n",
    "# We are here getting rid of tasks where only 0 are available in the validation set\n",
    "valid_aucs = [roc_auc_score(y_score=task_pred[:,1], y_true=y_valid[:, task_idx])\n",
    "             for task_idx, (task_pred, n_pos) in enumerate(zip(preds_valid, y_valid.sum(axis=0))) if n_pos > 0]\n",
    "\n",
    "valid_logloss = [log_loss(y_pred=task_pred[:,1], y_true=y_valid[:, task_idx])\n",
    "             for task_idx, (task_pred, n_pos) in enumerate(zip(preds_valid, y_valid.sum(axis=0))) if n_pos > 0]\n",
    "\n",
    "plt.scatter(y_valid.sum(axis=0)[y_valid.sum(axis=0)>0], valid_aucs)"
   ]
  },
  {
   "cell_type": "code",
   "execution_count": 24,
   "metadata": {
    "execution": {
     "iopub.execute_input": "2020-09-20T14:51:15.924159Z",
     "iopub.status.busy": "2020-09-20T14:51:15.922185Z",
     "iopub.status.idle": "2020-09-20T14:51:15.928215Z",
     "shell.execute_reply": "2020-09-20T14:51:15.927336Z"
    },
    "papermill": {
     "duration": 0.107954,
     "end_time": "2020-09-20T14:51:15.928371",
     "exception": false,
     "start_time": "2020-09-20T14:51:15.820417",
     "status": "completed"
    },
    "tags": []
   },
   "outputs": [
    {
     "output_type": "error",
     "ename": "AttributeError",
     "evalue": "'TabNetMultiTaskClassifier' object has no attribute 'best_cost'",
     "traceback": [
      "\u001b[0;31m---------------------------------------------------------------------------\u001b[0m",
      "\u001b[0;31mAttributeError\u001b[0m                            Traceback (most recent call last)",
      "\u001b[0;32m<ipython-input-24-f2e74c44f83d>\u001b[0m in \u001b[0;36m<module>\u001b[0;34m\u001b[0m\n\u001b[1;32m      1\u001b[0m \u001b[0;31m# Valid score should match mean log loss - They don't match exactly because we removed some tasks\u001b[0m\u001b[0;34m\u001b[0m\u001b[0;34m\u001b[0m\u001b[0;34m\u001b[0m\u001b[0m\n\u001b[0;32m----> 2\u001b[0;31m \u001b[0mprint\u001b[0m\u001b[0;34m(\u001b[0m\u001b[0;34mf\"BEST VALID SCORE FOR {dataset_name} : {clf.best_cost}\"\u001b[0m\u001b[0;34m)\u001b[0m\u001b[0;34m\u001b[0m\u001b[0;34m\u001b[0m\u001b[0m\n\u001b[0m\u001b[1;32m      3\u001b[0m \u001b[0mprint\u001b[0m\u001b[0;34m(\u001b[0m\u001b[0;34mf\"VALIDATION MEAN LOGLOSS SCORES FOR {dataset_name} : {np.mean(valid_logloss)}\"\u001b[0m\u001b[0;34m)\u001b[0m\u001b[0;34m\u001b[0m\u001b[0;34m\u001b[0m\u001b[0m\n\u001b[1;32m      4\u001b[0m \u001b[0mprint\u001b[0m\u001b[0;34m(\u001b[0m\u001b[0;34mf\"VALIDATION MEAN AUC SCORES FOR {dataset_name} : {np.mean(valid_aucs)}\"\u001b[0m\u001b[0;34m)\u001b[0m\u001b[0;34m\u001b[0m\u001b[0;34m\u001b[0m\u001b[0m\n",
      "\u001b[0;31mAttributeError\u001b[0m: 'TabNetMultiTaskClassifier' object has no attribute 'best_cost'"
     ]
    }
   ],
   "source": [
    "# Valid score should match mean log loss - They don't match exactly because we removed some tasks\n",
    "print(f\"BEST VALID SCORE FOR {dataset_name} : {clf.best_cost}\")\n",
    "print(f\"VALIDATION MEAN LOGLOSS SCORES FOR {dataset_name} : {np.mean(valid_logloss)}\")\n",
    "print(f\"VALIDATION MEAN AUC SCORES FOR {dataset_name} : {np.mean(valid_aucs)}\")"
   ]
  },
  {
   "cell_type": "markdown",
   "metadata": {
    "papermill": {
     "duration": 0.096121,
     "end_time": "2020-09-20T14:51:16.120522",
     "exception": false,
     "start_time": "2020-09-20T14:51:16.024401",
     "status": "completed"
    },
    "tags": []
   },
   "source": [
    "## Predictions"
   ]
  },
  {
   "cell_type": "code",
   "execution_count": 25,
   "metadata": {
    "execution": {
     "iopub.execute_input": "2020-09-20T14:51:16.317908Z",
     "iopub.status.busy": "2020-09-20T14:51:16.317111Z",
     "iopub.status.idle": "2020-09-20T14:51:16.683282Z",
     "shell.execute_reply": "2020-09-20T14:51:16.684714Z"
    },
    "papermill": {
     "duration": 0.468603,
     "end_time": "2020-09-20T14:51:16.684900",
     "exception": false,
     "start_time": "2020-09-20T14:51:16.216297",
     "status": "completed"
    },
    "tags": []
   },
   "outputs": [],
   "source": [
    "preds = clf.predict_proba(X_test)"
   ]
  },
  {
   "cell_type": "markdown",
   "metadata": {
    "papermill": {
     "duration": 0.139577,
     "end_time": "2020-09-20T14:51:16.975935",
     "exception": false,
     "start_time": "2020-09-20T14:51:16.836358",
     "status": "completed"
    },
    "tags": []
   },
   "source": [
    "# Save and load Model\n",
    "\n",
    "Just an example of how to save and load models in order to use them later"
   ]
  },
  {
   "cell_type": "code",
   "execution_count": 15,
   "metadata": {
    "execution": {
     "iopub.execute_input": "2020-09-20T14:51:17.174068Z",
     "iopub.status.busy": "2020-09-20T14:51:17.173216Z",
     "iopub.status.idle": "2020-09-20T14:51:17.211161Z",
     "shell.execute_reply": "2020-09-20T14:51:17.210507Z"
    },
    "papermill": {
     "duration": 0.138725,
     "end_time": "2020-09-20T14:51:17.211314",
     "exception": false,
     "start_time": "2020-09-20T14:51:17.072589",
     "status": "completed"
    },
    "tags": []
   },
   "outputs": [
    {
     "name": "stdout",
     "output_type": "stream",
     "text": [
      "Successfully saved model at ./TabNetMultiTaskClassifier_baseline.zip\n"
     ]
    }
   ],
   "source": [
    "# save tabnet model\n",
    "saving_path_name = \"./TabNetMultiTaskClassifier_baseline\"\n",
    "saved_filepath = clf.save_model(saving_path_name)"
   ]
  },
  {
   "cell_type": "code",
   "execution_count": 16,
   "metadata": {
    "execution": {
     "iopub.execute_input": "2020-09-20T14:51:17.410848Z",
     "iopub.status.busy": "2020-09-20T14:51:17.409962Z",
     "iopub.status.idle": "2020-09-20T14:51:17.504731Z",
     "shell.execute_reply": "2020-09-20T14:51:17.505927Z"
    },
    "papermill": {
     "duration": 0.198587,
     "end_time": "2020-09-20T14:51:17.506220",
     "exception": false,
     "start_time": "2020-09-20T14:51:17.307633",
     "status": "completed"
    },
    "tags": []
   },
   "outputs": [
    {
     "name": "stdout",
     "output_type": "stream",
     "text": [
      "Device used : cuda\n",
      "Device used : cuda\n"
     ]
    }
   ],
   "source": [
    "# define new model with basic parameters and load state dict weights (all parameters will be updated)\n",
    "loaded_clf = TabNetMultiTaskClassifier()\n",
    "loaded_clf.load_model(saved_filepath)"
   ]
  },
  {
   "cell_type": "code",
   "execution_count": 17,
   "metadata": {
    "execution": {
     "iopub.execute_input": "2020-09-20T14:51:17.735140Z",
     "iopub.status.busy": "2020-09-20T14:51:17.733171Z",
     "iopub.status.idle": "2020-09-20T14:51:18.085447Z",
     "shell.execute_reply": "2020-09-20T14:51:18.084883Z"
    },
    "papermill": {
     "duration": 0.455766,
     "end_time": "2020-09-20T14:51:18.085575",
     "exception": false,
     "start_time": "2020-09-20T14:51:17.629809",
     "status": "completed"
    },
    "tags": []
   },
   "outputs": [],
   "source": [
    "loaded_preds = loaded_clf.predict_proba(X_test)\n",
    "\n",
    "# Make sure that this is working as expected\n",
    "np.testing.assert_array_equal(preds, loaded_preds)"
   ]
  },
  {
   "cell_type": "markdown",
   "metadata": {
    "papermill": {
     "duration": 0.097394,
     "end_time": "2020-09-20T14:51:18.279716",
     "exception": false,
     "start_time": "2020-09-20T14:51:18.182322",
     "status": "completed"
    },
    "tags": []
   },
   "source": [
    "# Global explainability : feat importance summing to 1"
   ]
  },
  {
   "cell_type": "code",
   "execution_count": 33,
   "metadata": {
    "execution": {
     "iopub.execute_input": "2020-09-20T14:51:18.485714Z",
     "iopub.status.busy": "2020-09-20T14:51:18.480461Z",
     "iopub.status.idle": "2020-09-20T14:51:18.498468Z",
     "shell.execute_reply": "2020-09-20T14:51:18.498946Z"
    },
    "papermill": {
     "duration": 0.120572,
     "end_time": "2020-09-20T14:51:18.499086",
     "exception": false,
     "start_time": "2020-09-20T14:51:18.378514",
     "status": "completed"
    },
    "tags": []
   },
   "outputs": [
    {
     "output_type": "execute_result",
     "data": {
      "text/plain": [
       "(3982, 206, 2)"
      ]
     },
     "metadata": {},
     "execution_count": 33
    }
   ],
   "source": [
    "np.array(preds).swapaxes(0, 1).shape"
   ]
  },
  {
   "cell_type": "code",
   "execution_count": 30,
   "metadata": {},
   "outputs": [
    {
     "output_type": "execute_result",
     "data": {
      "text/plain": [
       "(19020, 206)"
      ]
     },
     "metadata": {},
     "execution_count": 30
    }
   ],
   "source": [
    "y_train.shape"
   ]
  },
  {
   "cell_type": "markdown",
   "metadata": {
    "papermill": {
     "duration": 0.097941,
     "end_time": "2020-09-20T14:51:18.695682",
     "exception": false,
     "start_time": "2020-09-20T14:51:18.597741",
     "status": "completed"
    },
    "tags": []
   },
   "source": [
    "# Local explainability and masks for test set\n",
    "\n",
    "Explain matrix is not normalized so rows don't sum to 1, feel free to normalize them yourself\n",
    "\n",
    "You can see that attention is quite sparse and this visualization with so many columns is not the best"
   ]
  },
  {
   "cell_type": "code",
   "execution_count": 19,
   "metadata": {
    "execution": {
     "iopub.execute_input": "2020-09-20T14:51:18.901336Z",
     "iopub.status.busy": "2020-09-20T14:51:18.900136Z",
     "iopub.status.idle": "2020-09-20T14:51:19.177118Z",
     "shell.execute_reply": "2020-09-20T14:51:19.176529Z"
    },
    "papermill": {
     "duration": 0.382578,
     "end_time": "2020-09-20T14:51:19.177230",
     "exception": false,
     "start_time": "2020-09-20T14:51:18.794652",
     "status": "completed"
    },
    "tags": []
   },
   "outputs": [],
   "source": [
    "explain_matrix, masks = clf.explain(X_test)"
   ]
  },
  {
   "cell_type": "code",
   "execution_count": 20,
   "metadata": {
    "execution": {
     "iopub.execute_input": "2020-09-20T14:51:19.386172Z",
     "iopub.status.busy": "2020-09-20T14:51:19.384796Z",
     "iopub.status.idle": "2020-09-20T14:51:19.922005Z",
     "shell.execute_reply": "2020-09-20T14:51:19.922581Z"
    },
    "papermill": {
     "duration": 0.647705,
     "end_time": "2020-09-20T14:51:19.922749",
     "exception": false,
     "start_time": "2020-09-20T14:51:19.275044",
     "status": "completed"
    },
    "tags": []
   },
   "outputs": [
    {
     "ename": "KeyError",
     "evalue": "1",
     "output_type": "error",
     "traceback": [
      "\u001b[0;31m---------------------------------------------------------------------------\u001b[0m",
      "\u001b[0;31mKeyError\u001b[0m                                  Traceback (most recent call last)",
      "\u001b[0;32m<ipython-input-20-1f12fee38cac>\u001b[0m in \u001b[0;36m<module>\u001b[0;34m\u001b[0m\n\u001b[1;32m      2\u001b[0m \u001b[0;34m\u001b[0m\u001b[0m\n\u001b[1;32m      3\u001b[0m \u001b[0;32mfor\u001b[0m \u001b[0mi\u001b[0m \u001b[0;32min\u001b[0m \u001b[0mrange\u001b[0m\u001b[0;34m(\u001b[0m\u001b[0;36m3\u001b[0m\u001b[0;34m)\u001b[0m\u001b[0;34m:\u001b[0m\u001b[0;34m\u001b[0m\u001b[0;34m\u001b[0m\u001b[0m\n\u001b[0;32m----> 4\u001b[0;31m     \u001b[0maxs\u001b[0m\u001b[0;34m[\u001b[0m\u001b[0mi\u001b[0m\u001b[0;34m]\u001b[0m\u001b[0;34m.\u001b[0m\u001b[0mimshow\u001b[0m\u001b[0;34m(\u001b[0m\u001b[0mmasks\u001b[0m\u001b[0;34m[\u001b[0m\u001b[0mi\u001b[0m\u001b[0;34m]\u001b[0m\u001b[0;34m[\u001b[0m\u001b[0;34m:\u001b[0m\u001b[0;36m500\u001b[0m\u001b[0;34m]\u001b[0m\u001b[0;34m)\u001b[0m\u001b[0;34m\u001b[0m\u001b[0;34m\u001b[0m\u001b[0m\n\u001b[0m\u001b[1;32m      5\u001b[0m     \u001b[0maxs\u001b[0m\u001b[0;34m[\u001b[0m\u001b[0mi\u001b[0m\u001b[0;34m]\u001b[0m\u001b[0;34m.\u001b[0m\u001b[0mset_title\u001b[0m\u001b[0;34m(\u001b[0m\u001b[0;34mf\"mask {i}\"\u001b[0m\u001b[0;34m)\u001b[0m\u001b[0;34m\u001b[0m\u001b[0;34m\u001b[0m\u001b[0m\n",
      "\u001b[0;31mKeyError\u001b[0m: 1"
     ]
    },
    {
     "data": {
      "image/png": "[encoded data removed]",
      "text/plain": [
       "<Figure size 1440x1440 with 3 Axes>"
      ]
     },
     "metadata": {
      "needs_background": "light"
     },
     "output_type": "display_data"
    }
   ],
   "source": [
    "fig, axs = plt.subplots(1, 3, figsize=(20,20))\n",
    "\n",
    "for i in range(3):\n",
    "    axs[i].imshow(masks[i][:500])\n",
    "    axs[i].set_title(f\"mask {i}\")\n"
   ]
  },
  {
   "cell_type": "markdown",
   "metadata": {
    "papermill": {
     "duration": 0.099651,
     "end_time": "2020-09-20T14:51:20.122929",
     "exception": false,
     "start_time": "2020-09-20T14:51:20.023278",
     "status": "completed"
    },
    "tags": []
   },
   "source": [
    "# End of notebook\n",
    "\n",
    "Hope this will be usefull!"
   ]
  }
 ],
 "metadata": {
  "kernelspec": {
   "display_name": "Python 3",
   "language": "python",
   "name": "python3"
  },
  "language_info": {
   "codemirror_mode": {
    "name": "ipython",
    "version": 3
   },
   "file_extension": ".py",
   "mimetype": "text/x-python",
   "name": "python",
   "nbconvert_exporter": "python",
   "pygments_lexer": "ipython3",
   "version": "3.7.6-final"
  },
  "papermill": {
   "duration": 629.889689,
   "end_time": "2020-09-20T14:51:20.632178",
   "environment_variables": {},
   "exception": null,
   "input_path": "__notebook__.ipynb",
   "output_path": "__notebook__.ipynb",
   "parameters": {},
   "start_time": "2020-09-20T14:40:50.742489",
   "version": "2.1.0"
  },
  "widgets": {
   "application/vnd.jupyter.widget-state+json": {
    "state": {
     "133aaf0a63714a9784beb0386d907d76": {
      "model_module": "@jupyter-widgets/base",
      "model_module_version": "1.2.0",
      "model_name": "LayoutModel",
      "state": {
       "_model_module": "@jupyter-widgets/base",
       "_model_module_version": "1.2.0",
       "_model_name": "LayoutModel",
       "_view_count": null,
       "_view_module": "@jupyter-widgets/base",
       "_view_module_version": "1.2.0",
       "_view_name": "LayoutView",
       "align_content": null,
       "align_items": null,
       "align_self": null,
       "border": null,
       "bottom": null,
       "display": null,
       "flex": null,
       "flex_flow": null,
       "grid_area": null,
       "grid_auto_columns": null,
       "grid_auto_flow": null,
       "grid_auto_rows": null,
       "grid_column": null,
       "grid_gap": null,
       "grid_row": null,
       "grid_template_areas": null,
       "grid_template_columns": null,
       "grid_template_rows": null,
       "height": null,
       "justify_content": null,
       "justify_items": null,
       "left": null,
       "margin": null,
       "max_height": null,
       "max_width": null,
       "min_height": null,
       "min_width": null,
       "object_fit": null,
       "object_position": null,
       "order": null,
       "overflow": null,
       "overflow_x": null,
       "overflow_y": null,
       "padding": null,
       "right": null,
       "top": null,
       "visibility": null,
       "width": null
      }
     },
     "219f438477d04d7395636de947fa6e5b": {
      "model_module": "@jupyter-widgets/controls",
      "model_module_version": "1.5.0",
      "model_name": "DescriptionStyleModel",
      "state": {
       "_model_module": "@jupyter-widgets/controls",
       "_model_module_version": "1.5.0",
       "_model_name": "DescriptionStyleModel",
       "_view_count": null,
       "_view_module": "@jupyter-widgets/base",
       "_view_module_version": "1.2.0",
       "_view_name": "StyleView",
       "description_width": ""
      }
     },
     "2651923e2cdd48cd8cd0b8328578e800": {
      "model_module": "@jupyter-widgets/base",
      "model_module_version": "1.2.0",
      "model_name": "LayoutModel",
      "state": {
       "_model_module": "@jupyter-widgets/base",
       "_model_module_version": "1.2.0",
       "_model_name": "LayoutModel",
       "_view_count": null,
       "_view_module": "@jupyter-widgets/base",
       "_view_module_version": "1.2.0",
       "_view_name": "LayoutView",
       "align_content": null,
       "align_items": null,
       "align_self": null,
       "border": null,
       "bottom": null,
       "display": null,
       "flex": null,
       "flex_flow": null,
       "grid_area": null,
       "grid_auto_columns": null,
       "grid_auto_flow": null,
       "grid_auto_rows": null,
       "grid_column": null,
       "grid_gap": null,
       "grid_row": null,
       "grid_template_areas": null,
       "grid_template_columns": null,
       "grid_template_rows": null,
       "height": null,
       "justify_content": null,
       "justify_items": null,
       "left": null,
       "margin": null,
       "max_height": null,
       "max_width": null,
       "min_height": null,
       "min_width": null,
       "object_fit": null,
       "object_position": null,
       "order": null,
       "overflow": null,
       "overflow_x": null,
       "overflow_y": null,
       "padding": null,
       "right": null,
       "top": null,
       "visibility": null,
       "width": null
      }
     },
     "5cd4a7a79eeb4952b5c8c35d65307481": {
      "model_module": "@jupyter-widgets/controls",
      "model_module_version": "1.5.0",
      "model_name": "ProgressStyleModel",
      "state": {
       "_model_module": "@jupyter-widgets/controls",
       "_model_module_version": "1.5.0",
       "_model_name": "ProgressStyleModel",
       "_view_count": null,
       "_view_module": "@jupyter-widgets/base",
       "_view_module_version": "1.2.0",
       "_view_name": "StyleView",
       "bar_color": null,
       "description_width": "initial"
      }
     },
     "867d619ddedf4c5a8457cd34b9dabc68": {
      "model_module": "@jupyter-widgets/controls",
      "model_module_version": "1.5.0",
      "model_name": "HTMLModel",
      "state": {
       "_dom_classes": [],
       "_model_module": "@jupyter-widgets/controls",
       "_model_module_version": "1.5.0",
       "_model_name": "HTMLModel",
       "_view_count": null,
       "_view_module": "@jupyter-widgets/controls",
       "_view_module_version": "1.5.0",
       "_view_name": "HTMLView",
       "description": "",
       "description_tooltip": null,
       "layout": "IPY_MODEL_2651923e2cdd48cd8cd0b8328578e800",
       "placeholder": "​",
       "style": "IPY_MODEL_219f438477d04d7395636de947fa6e5b",
       "value": " 877/877 [01:25&lt;00:00, 10.24it/s]"
      }
     },
     "d3c68f05cbe24e13ae13f4e1077dab78": {
      "model_module": "@jupyter-widgets/controls",
      "model_module_version": "1.5.0",
      "model_name": "HBoxModel",
      "state": {
       "_dom_classes": [],
       "_model_module": "@jupyter-widgets/controls",
       "_model_module_version": "1.5.0",
       "_model_name": "HBoxModel",
       "_view_count": null,
       "_view_module": "@jupyter-widgets/controls",
       "_view_module_version": "1.5.0",
       "_view_name": "HBoxView",
       "box_style": "",
       "children": [
        "IPY_MODEL_dedfd598f7cd47d0a0959dc11c5cd94f",
        "IPY_MODEL_867d619ddedf4c5a8457cd34b9dabc68"
       ],
       "layout": "IPY_MODEL_133aaf0a63714a9784beb0386d907d76"
      }
     },
     "dabd64caeeca435c8298d3036058a762": {
      "model_module": "@jupyter-widgets/base",
      "model_module_version": "1.2.0",
      "model_name": "LayoutModel",
      "state": {
       "_model_module": "@jupyter-widgets/base",
       "_model_module_version": "1.2.0",
       "_model_name": "LayoutModel",
       "_view_count": null,
       "_view_module": "@jupyter-widgets/base",
       "_view_module_version": "1.2.0",
       "_view_name": "LayoutView",
       "align_content": null,
       "align_items": null,
       "align_self": null,
       "border": null,
       "bottom": null,
       "display": null,
       "flex": null,
       "flex_flow": null,
       "grid_area": null,
       "grid_auto_columns": null,
       "grid_auto_flow": null,
       "grid_auto_rows": null,
       "grid_column": null,
       "grid_gap": null,
       "grid_row": null,
       "grid_template_areas": null,
       "grid_template_columns": null,
       "grid_template_rows": null,
       "height": null,
       "justify_content": null,
       "justify_items": null,
       "left": null,
       "margin": null,
       "max_height": null,
       "max_width": null,
       "min_height": null,
       "min_width": null,
       "object_fit": null,
       "object_position": null,
       "order": null,
       "overflow": null,
       "overflow_x": null,
       "overflow_y": null,
       "padding": null,
       "right": null,
       "top": null,
       "visibility": null,
       "width": null
      }
     },
     "dedfd598f7cd47d0a0959dc11c5cd94f": {
      "model_module": "@jupyter-widgets/controls",
      "model_module_version": "1.5.0",
      "model_name": "FloatProgressModel",
      "state": {
       "_dom_classes": [],
       "_model_module": "@jupyter-widgets/controls",
       "_model_module_version": "1.5.0",
       "_model_name": "FloatProgressModel",
       "_view_count": null,
       "_view_module": "@jupyter-widgets/controls",
       "_view_module_version": "1.5.0",
       "_view_name": "ProgressView",
       "bar_style": "success",
       "description": "100%",
       "description_tooltip": null,
       "layout": "IPY_MODEL_dabd64caeeca435c8298d3036058a762",
       "max": 877,
       "min": 0,
       "orientation": "horizontal",
       "style": "IPY_MODEL_5cd4a7a79eeb4952b5c8c35d65307481",
       "value": 877
      }
     }
    },
    "version_major": 2,
    "version_minor": 0
   }
  }
 },
 "nbformat": 4,
 "nbformat_minor": 4
}